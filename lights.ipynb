{
 "cells": [
  {
   "attachments": {},
   "cell_type": "markdown",
   "metadata": {},
   "source": [
    "# Lights\n",
    "> The LED App.\n",
    "\n",
    "- keywords: ['Audio','Music','Mesh Network', 'Esp32']"
   ]
  },
  {
   "cell_type": "markdown",
   "metadata": {},
   "source": [
    "<script>\n",
    "    console.log('heckya'); \n",
    "</script>"
   ]
  },
  {
   "cell_type": "markdown",
   "metadata": {},
   "source": [
    "<img src='https://charleskarpati.com/images/covers/lights1.webp'>"
   ]
  },
  {
   "attachments": {},
   "cell_type": "markdown",
   "metadata": {},
   "source": []
  },
  {
   "attachments": {},
   "cell_type": "markdown",
   "metadata": {},
   "source": [
    "## Intro"
   ]
  },
  {
   "attachments": {},
   "cell_type": "markdown",
   "metadata": {},
   "source": [
    "This site is playground to experiment with ESP32's and WebBluetooth. The end goal of this project is to create a mesh network of lights.<br> "
   ]
  },
  {
   "cell_type": "markdown",
   "metadata": {},
   "source": [
    "<details class=\"details\">\n",
    "<summary>"
   ]
  },
  {
   "cell_type": "markdown",
   "metadata": {},
   "source": [
    "### About Mesh"
   ]
  },
  {
   "cell_type": "markdown",
   "metadata": {},
   "source": [
    "</summary>\n",
    "This project enables a mesh network of ESP32 boards to communicate using the ESP-NOW protocol while allowing a user's phone to update the network.\n",
    "\n",
    "The ESP's intercommunicate using the ESP-NOW protocol, and to a user's phone through a 1-to-1 Bluetooth connection. It includes two key functionalities:\n",
    "\n",
    "- **Broadcast Function**: Sends stored data to all devices in the mesh network to respond to data as individually configured. the ESP connected to a phone via Bluetooth will send notifications and receives commands to update the mesh network state.<br>\n",
    "</details>"
   ]
  },
  {
   "cell_type": "markdown",
   "metadata": {},
   "source": [
    "<details open>\n",
    "<summary>"
   ]
  },
  {
   "cell_type": "markdown",
   "metadata": {},
   "source": [
    "## Dashboard"
   ]
  },
  {
   "cell_type": "markdown",
   "metadata": {},
   "source": [
    "</summary>"
   ]
  },
  {
   "cell_type": "markdown",
   "metadata": {},
   "source": [
    "If you have a ESP32 flashed with my code, a demo will appear once connected:"
   ]
  },
  {
   "cell_type": "markdown",
   "metadata": {},
   "source": [
    "<button id=\"btConnect\" onclick=\"window.ble()\">BT Connect</button>\n",
    "<script> window.w=window</script>\n",
    "<div id=\"btDash\" style='display:none'> \n",
    "  <style> input { width: 100px; clip: auto; } </style>\n",
    "  <div>\n",
    "    <div> Color One: <input type=\"color\" id=\"colorOne\" value=\"#ff00cb\" /> </div>\n",
    "    <div> Color Two: <input type=\"color\" id=\"colorTwo\" value=\"#00ffcb\" /> </div>\n",
    "    <div> Color Three: <input type=\"color\" id=\"colorThree\" value=\"#cb00ff\" /> </div>\n",
    "    <div> Animation Delay: <input type=\"number\" min=\"0\" step=\"5\" id=\"animationDelay\" value=\"100\"> </div>\n",
    "    <div> Brightness: <input type=\"number\" step=\"5\" min=\"0\" max=\"256\" id=\"brightness\" value=\"100\"/> </div>\n",
    "  </div>\n",
    "  <div style=\"display: flex; flex-direction: row; height: 65px;\"> \n",
    "    <!-- brightness, lightmode, colorone, colortwo, colorthree, animationdelay -->\n",
    "    <button onclick=\"w.myData.lightmode = 'setColor'; w.bleWrite()\"> Set Color </button>\n",
    "    <button onclick=\"w.myData.lightmode = 'swipe'; w.bleWrite()\"> Color Swipe </button>\n",
    "    <button onclick=\"w.myData.lightmode = 'theaterChase'; w.bleWrite()\"> Theater Chase </button>\n",
    "    <button onclick=\"w.myData.lightmode = 'rainbow'; w.bleWrite()\"> Rainbow </button>\n",
    "    <button onclick=\"w.myData.lightmode = 'theaterChaseRainbow'; w.bleWrite()\"> Theater Chase Rainbow </button>\n",
    "    <button onclick=\"w.myData.lightmode = 'multiColorSizzle'; w.bleWrite()\"> Multi-Color Sizzle </button>\n",
    "    <button onclick=\"w.myData.lightmode = 'multiColorWipe'; w.bleWrite()\"> Multi-Color Wipe </button>\n",
    "    <button onclick=\"w.myData.lightmode = 'multiTheaterSizzle'; w.bleWrite()\"> Multi-Theater Sizzle </button>\n",
    "    <button onclick=\"w.myData.lightmode = 'multiTheaterWipe'; w.bleWrite()\"> Multi-Theater Wipe </button>\n",
    "    <button onclick=\"w.myData.colorone = w.getRandomColor(); w.bleWrite()\">  RANDOM </button>\n",
    "  </div>\n",
    "</div>"
   ]
  },
  {
   "cell_type": "markdown",
   "metadata": {},
   "source": [
    "A web based <a href='https://carlos-a-diez.com/music/dj.html'>DJ Panel</a> also exists that can broadcast colors from a real time audio analysis."
   ]
  },
  {
   "cell_type": "markdown",
   "metadata": {},
   "source": [
    "</details> "
   ]
  },
  {
   "attachments": {},
   "cell_type": "markdown",
   "metadata": {},
   "source": [
    "<script>\n",
    "    console.log('heckya');\n",
    "    // current solution of conditionally loading article-dependent scripts from main.js is bloaty\n",
    "    // having ipynb import/execute scripts is cleaner but mean's scripts aren't webpacked unless done elsewhere. \n",
    "</script>"
   ]
  },
  {
   "cell_type": "code",
   "execution_count": 3,
   "metadata": {},
   "outputs": [
    {
     "data": {
      "text/html": [
       "<script type=\"module\">\n",
       "  console.log('Starting'); \n",
       "  async function loadScript() {  \n",
       "    let isDev = window.location.origin.includes('localhost'); \n",
       "    try { const module = await import('/ipynb/lights.js');\n",
       "    } catch (error) { console.error('Failed to load script from', filename); }\n",
       "    window.lights = document.getElementById('lights');\n",
       "    console.log('window', window); \n",
       "  } \n",
       "  loadScript();\n",
       "</script>\n"
      ],
      "text/plain": [
       "<IPython.core.display.HTML object>"
      ]
     },
     "metadata": {},
     "output_type": "display_data"
    }
   ],
   "source": [
    "%%html\n",
    "<script type=\"module\">\n",
    "  console.log('Starting'); \n",
    "  async function loadScript() {  \n",
    "    let isDev = window.location.origin.includes('localhost'); \n",
    "    try { const module = await import('/ipynb/lights.js');\n",
    "    } catch (error) { console.error('Failed to load script from', filename); }\n",
    "    window.lights = document.getElementById('lights');\n",
    "    console.log('window', window); \n",
    "  } \n",
    "  loadScript();\n",
    "</script>"
   ]
  },
  {
   "attachments": {},
   "cell_type": "markdown",
   "metadata": {},
   "source": [
    "</details>"
   ]
  }
 ],
 "metadata": {
  "kernelspec": {
   "display_name": "venv",
   "language": "python",
   "name": "python3"
  },
  "language_info": {
   "codemirror_mode": {
    "name": "ipython",
    "version": 3
   },
   "file_extension": ".py",
   "mimetype": "text/x-python",
   "name": "python",
   "nbconvert_exporter": "python",
   "pygments_lexer": "ipython3",
   "version": "3.11.6"
  },
  "orig_nbformat": 4
 },
 "nbformat": 4,
 "nbformat_minor": 2
}
