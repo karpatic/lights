{
 "cells": [
  {
   "cell_type": "markdown",
   "metadata": {},
   "source": [
    "# Upload \n",
    "> Web Interface to Flash ESP32's using Web Serial.\n",
    "\n",
    "- prettify: true"
   ]
  },
  {
   "cell_type": "markdown",
   "metadata": {},
   "source": []
  },
  {
   "cell_type": "markdown",
   "metadata": {},
   "source": [
    "<img src='https://charleskarpati.com/images/covers/upload1.webp'>"
   ]
  },
  {
   "cell_type": "code",
   "execution_count": 1,
   "metadata": {},
   "outputs": [
    {
     "data": {
      "text/html": [
       "    <style> \n",
       "        body { font-family: Arial, sans-serif; margin: 20px; }\n",
       "        .container { max-width: 800px; margin: 0 auto; }\n",
       "        #output { height: 300px; border: 1px solid #ccc; padding: 10px; overflow-y: auto; background-color: #f5f5f5; font-family: monospace; }\n",
       "        button { background-color: #4CAF50; color: white; padding: 10px 15px; border: none; border-radius: 4px; cursor: pointer; margin-top: 10px; }\n",
       "        button:hover { background-color: #45a049; }\n",
       "        button:disabled { background-color: #cccccc; cursor: not-allowed; }\n",
       "        select, textarea { width: 100%; padding: 8px; margin: 10px 0; box-sizing: border-box; }\n",
       "        textarea { height: 400px; font-family: monospace; }\n",
       "        .preset-section { margin: 10px 0; border: 1px solid #ddd; padding: 10px; background-color: #f9f9f9; }\n",
       "        .progress-bar {\n",
       "            width: 100%;\n",
       "            background-color: #ddd;\n",
       "            border-radius: 4px;\n",
       "            margin-top: 10px;\n",
       "            display: none;\n",
       "        }\n",
       "        .progress {\n",
       "            height: 20px;\n",
       "            background-color: #4CAF50;\n",
       "            border-radius: 4px;\n",
       "            text-align: center;\n",
       "            color: white;\n",
       "            line-height: 20px;\n",
       "            width: 0%;\n",
       "        }\n",
       "        textarea{\n",
       "            height: 600px;\n",
       "        }\n",
       "    </style>\n",
       "</head> \n",
       "<div class=\"container\"> \n",
       "    <div>\n",
       "        <button id=\"connectBtn\">Connect to Device</button>\n",
       "        <button id=\"disconnectBtn\" disabled>Disconnect</button>\n",
       "        <span id=\"connectionStatus\">Not connected</span>\n",
       "    </div>\n",
       "\n",
       "    <div class=\"preset-section\">\n",
       "        <h2>Preset Examples:</h2>\n",
       "        <select id=\"presetSelect\">\n",
       "            <option value=\"\">-- Select an example --</option>\n",
       "            <option value=\"blinkCounter\">Blink with Counter</option>\n",
       "            <option value=\"blinkMonitor\">Blink with Monitor</option> \n",
       "            <option value=\"mainProject\">Lightstrip Code</option> \n",
       "        </select>\n",
       "        <button id=\"loadPresetBtn\">Load Example</button>\n",
       "    </div>\n",
       "\n",
       "    <div>\n",
       "        <h2>Code:</h2>\n",
       "        <textarea id=\"codeArea\" placeholder=\"Enter your Arduino code here\"></textarea>\n",
       "        <button id=\"uploadBtn\" disabled>Upload Code</button>\n",
       "        <button id=\"loadFileBtn\">Load from File</button>\n",
       "        <input type=\"file\" id=\"fileInput\" style=\"display: none;\">\n",
       "        <div class=\"progress-bar\" id=\"uploadProgress\">\n",
       "            <div class=\"progress\" id=\"progressBar\">0%</div>\n",
       "        </div>\n",
       "    </div>\n",
       "\n",
       "    <div>\n",
       "        <h2>Output:</h2>\n",
       "        <div id=\"output\"></div>\n",
       "    </div>\n",
       "</div>\n",
       "\n",
       "\n",
       "<script src=\"web.js\" type=\"module\"></script> \n"
      ],
      "text/plain": [
       "<IPython.core.display.HTML object>"
      ]
     },
     "metadata": {},
     "output_type": "display_data"
    }
   ],
   "source": [
    "%%html \n",
    "    <style> \n",
    "        body { font-family: Arial, sans-serif; margin: 20px; }\n",
    "        .container { max-width: 800px; margin: 0 auto; }\n",
    "        #output { height: 300px; border: 1px solid #ccc; padding: 10px; overflow-y: auto; background-color: #f5f5f5; font-family: monospace; }\n",
    "        button { background-color: #4CAF50; color: white; padding: 10px 15px; border: none; border-radius: 4px; cursor: pointer; margin-top: 10px; }\n",
    "        button:hover { background-color: #45a049; }\n",
    "        button:disabled { background-color: #cccccc; cursor: not-allowed; }\n",
    "        select, textarea { width: 100%; padding: 8px; margin: 10px 0; box-sizing: border-box; }\n",
    "        textarea { height: 400px; font-family: monospace; }\n",
    "        .preset-section { margin: 10px 0; border: 1px solid #ddd; padding: 10px; background-color: #f9f9f9; }\n",
    "        .progress-bar {\n",
    "            width: 100%;\n",
    "            background-color: #ddd;\n",
    "            border-radius: 4px;\n",
    "            margin-top: 10px;\n",
    "            display: none;\n",
    "        }\n",
    "        .progress {\n",
    "            height: 20px;\n",
    "            background-color: #4CAF50;\n",
    "            border-radius: 4px;\n",
    "            text-align: center;\n",
    "            color: white;\n",
    "            line-height: 20px;\n",
    "            width: 0%;\n",
    "        }\n",
    "        textarea{\n",
    "            height: 600px;\n",
    "        }\n",
    "    </style>\n",
    "</head> \n",
    "<div class=\"container\"> \n",
    "    <div>\n",
    "        <button id=\"connectBtn\">Connect to Device</button>\n",
    "        <button id=\"disconnectBtn\" disabled>Disconnect</button>\n",
    "        <span id=\"connectionStatus\">Not connected</span>\n",
    "    </div>\n",
    "    \n",
    "    <div class=\"preset-section\">\n",
    "        <h2>Preset Examples:</h2>\n",
    "        <select id=\"presetSelect\">\n",
    "            <option value=\"\">-- Select an example --</option>\n",
    "            <option value=\"blinkCounter\">Blink with Counter</option>\n",
    "            <option value=\"blinkMonitor\">Blink with Monitor</option> \n",
    "            <option value=\"mainProject\">Lightstrip Code</option> \n",
    "        </select>\n",
    "        <button id=\"loadPresetBtn\">Load Example</button>\n",
    "    </div>\n",
    "    \n",
    "    <div>\n",
    "        <h2>Code:</h2>\n",
    "        <textarea id=\"codeArea\" placeholder=\"Enter your Arduino code here\"></textarea>\n",
    "        <button id=\"uploadBtn\" disabled>Upload Code</button>\n",
    "        <button id=\"loadFileBtn\">Load from File</button>\n",
    "        <input type=\"file\" id=\"fileInput\" style=\"display: none;\">\n",
    "        <div class=\"progress-bar\" id=\"uploadProgress\">\n",
    "            <div class=\"progress\" id=\"progressBar\">0%</div>\n",
    "        </div>\n",
    "    </div>\n",
    "    \n",
    "    <div>\n",
    "        <h2>Output:</h2>\n",
    "        <div id=\"output\"></div>\n",
    "    </div>\n",
    "</div>\n",
    "\n",
    "\n",
    "<script src=\"web.js\" type=\"module\"></script> "
   ]
  },
  {
   "cell_type": "markdown",
   "metadata": {},
   "source": []
  },
  {
   "cell_type": "markdown",
   "metadata": {},
   "source": [
    "<details>\n",
    "<summary>"
   ]
  },
  {
   "cell_type": "markdown",
   "metadata": {},
   "source": [
    "## In Python:"
   ]
  },
  {
   "cell_type": "markdown",
   "metadata": {},
   "source": [
    "</summary>"
   ]
  },
  {
   "cell_type": "markdown",
   "metadata": {},
   "source": [
    "<details>\n",
    "<summary>"
   ]
  },
  {
   "attachments": {},
   "cell_type": "markdown",
   "metadata": {},
   "source": [
    "### Optional - Setup Localhost on Colabs"
   ]
  },
  {
   "cell_type": "markdown",
   "metadata": {},
   "source": [
    "</summary>"
   ]
  },
  {
   "attachments": {},
   "cell_type": "markdown",
   "metadata": {},
   "source": [
    "Run this in the local terminal:"
   ]
  },
  {
   "cell_type": "markdown",
   "metadata": {},
   "source": [
    "jupyter notebook \\ \\\n",
    "  --NotebookApp.allow_origin='https://colab.research.google.com' \\ \\\n",
    "  --port=8888 \\ \\\n",
    "  --NotebookApp.port_retries=0 \\ \\"
   ]
  },
  {
   "cell_type": "markdown",
   "metadata": {},
   "source": [
    "'Then hit the CONNECT dropdown on the top right of this screen to Connect to the Localhost "
   ]
  },
  {
   "cell_type": "markdown",
   "metadata": {},
   "source": [
    "</details>\n",
    "<details open>\n",
    "<summary>"
   ]
  },
  {
   "cell_type": "markdown",
   "metadata": {},
   "source": [
    "### Upload Function"
   ]
  },
  {
   "cell_type": "markdown",
   "metadata": {},
   "source": [
    "</summary>"
   ]
  },
  {
   "cell_type": "markdown",
   "metadata": {},
   "source": [
    "This is the upload script:"
   ]
  },
  {
   "cell_type": "code",
   "execution_count": 2,
   "metadata": {},
   "outputs": [],
   "source": [
    "# Add your user to the dialout group\n",
    "#sudo usermod -a -G dialout $USER\n",
    "# Verify the group was added\n",
    "#groups $USER\n",
    "# Check the permissions on the serial port\n",
    "#ls -l /dev/ttyUSB0"
   ]
  },
  {
   "cell_type": "code",
   "execution_count": 3,
   "metadata": {},
   "outputs": [
    {
     "name": "stdout",
     "output_type": "stream",
     "text": [
      "=== Current User ===\n",
      "Username: carlos\n",
      "\n",
      "=== Serial Port Status ===\n",
      "crw-rw-rw- 1 root dialout 188, 0 Jun 18 22:03 /dev/ttyUSB0\n",
      "\n",
      "=== UDEV Rules ===\n",
      "\n",
      "\n",
      "=== USB Devices ===\n",
      "\n",
      "\n",
      "=== DMesg USB Logs ===\n",
      "\n"
     ]
    }
   ],
   "source": [
    "#show_collapsed\n",
    "def check_system_status():\n",
    "    import os\n",
    "    import subprocess\n",
    "    import pwd\n",
    "    \n",
    "    def run_command(cmd):\n",
    "        try:\n",
    "            result = subprocess.run(cmd, shell=True, capture_output=True, text=True)\n",
    "            return result.stdout.strip()\n",
    "        except Exception as e:\n",
    "            return f\"Error: {str(e)}\"\n",
    "    \n",
    "    # Get current user\n",
    "    current_user = os.getenv('USER')\n",
    "    print(f\"=== Current User ===\")\n",
    "    print(f\"Username: {current_user}\")\n",
    "    \n",
    "    # Check user groups\n",
    "    # print(f\"\\n=== User Groups ===\")\n",
    "    # print(run_command('groups $USER'))\n",
    "    \n",
    "    # Check serial port permissions\n",
    "    print(f\"\\n=== Serial Port Status ===\")\n",
    "    print(run_command('ls -l /dev/ttyUSB0'))\n",
    "    \n",
    "    # Check udev rules\n",
    "    print(f\"\\n=== UDEV Rules ===\")\n",
    "    print(run_command('ls -l /etc/udev/rules.d/*usb*.rules'))\n",
    "    \n",
    "    # Check USB devices\n",
    "    print(f\"\\n=== USB Devices ===\")\n",
    "    print(run_command('lsusb | grep -i \"cp2102\"'))\n",
    "    \n",
    "    # Check dmesg for USB device\n",
    "    print(f\"\\n=== DMesg USB Logs ===\")\n",
    "    print(run_command('dmesg | grep -i \"cp2102\" | tail -n 5'))\n",
    "\n",
    "# Run the check\n",
    "check_system_status()"
   ]
  },
  {
   "cell_type": "code",
   "execution_count": 4,
   "metadata": {},
   "outputs": [
    {
     "name": "stdout",
     "output_type": "stream",
     "text": [
      "Bus 004 Device 001: ID 1d6b:0003 Linux Foundation 3.0 root hub\n",
      "Bus 003 Device 002: ID 0408:4039 Quanta Computer, Inc. ACER FHD User Facing\n",
      "Bus 003 Device 004: ID 10c4:ea60 Silicon Labs CP210x UART Bridge\n",
      "Bus 003 Device 003: ID 8087:0033 Intel Corp. \n",
      "Bus 003 Device 001: ID 1d6b:0002 Linux Foundation 2.0 root hub\n",
      "Bus 002 Device 001: ID 1d6b:0003 Linux Foundation 3.0 root hub\n",
      "Bus 001 Device 001: ID 1d6b:0002 Linux Foundation 2.0 root hub\n"
     ]
    }
   ],
   "source": [
    "!lsusb"
   ]
  },
  {
   "cell_type": "code",
   "execution_count": 5,
   "metadata": {},
   "outputs": [
    {
     "name": "stdout",
     "output_type": "stream",
     "text": [
      "Requirement already satisfied: pyserial in ./venv/lib/python3.11/site-packages (3.5)\n"
     ]
    }
   ],
   "source": [
    "!pip install pyserial"
   ]
  },
  {
   "cell_type": "code",
   "execution_count": 15,
   "metadata": {},
   "outputs": [],
   "source": [
    "import subprocess\n",
    "import time\n",
    "import os\n",
    "import platform\n",
    "import serial.tools.list_ports\n",
    "from IPython.display import clear_output\n",
    "\n",
    " \n",
    "def get_serial_port():\n",
    "    ports = list(serial.tools.list_ports.comports())\n",
    "    if not ports:\n",
    "        print(\"No serial ports found\")\n",
    "        return None\n",
    "        \n",
    "    print(\"Available ports:\")\n",
    "    for i, (port, desc, hwid) in enumerate(ports):\n",
    "        print(f\"{i}: {port} - {desc} [{hwid}]\")\n",
    "    \n",
    "    if len(ports) == 1:\n",
    "        return ports[0][0]\n",
    "    \n",
    "    try:\n",
    "        choice = int(input(f\"Select port (0-{len(ports)-1}): \"))\n",
    "        return ports[choice][0]\n",
    "    except (ValueError, IndexError):\n",
    "        print(\"Invalid selection\")\n",
    "        return None\n",
    "\n",
    "def upload_code(code):\n",
    "    # Get available port first\n",
    "    port = get_serial_port()\n",
    "    if not port:\n",
    "        return False\n",
    "\n",
    "    # Save the code to a file\n",
    "    with open('./src/main.cpp', 'w') as f:\n",
    "        f.write(code)\n",
    "\n",
    "    # Get the appropriate platformio command\n",
    "    pio_cmd = os.path.expanduser('~/.platformio/penv/bin/platformio')\n",
    "\n",
    "    if not os.path.exists(pio_cmd):\n",
    "        print(f\"Error: PlatformIO not found at {pio_cmd}\")\n",
    "        print(\"Please ensure PlatformIO is installed and in the default location\")\n",
    "        return False\n",
    "\n",
    "    try:\n",
    "        # Compile and upload the code\n",
    "        cmd = f'\"{pio_cmd}\" run --target upload --upload-port {port}'\n",
    "        process = subprocess.Popen(cmd, shell=True, stdout=subprocess.PIPE, stderr=subprocess.PIPE, bufsize=1, universal_newlines=True)\n",
    "        timeout = time.time() + 60*2  # 2 minutes from now\n",
    "\n",
    "        # Process output\n",
    "        while True:\n",
    "            if time.time() > timeout:\n",
    "                print(\"Timeout reached\")\n",
    "                process.kill()\n",
    "                return False\n",
    "\n",
    "            output = process.stdout.readline()\n",
    "            if output == '' and process.poll() is not None:\n",
    "                break\n",
    "            print(output.strip())\n",
    "\n",
    "        # Get the output and errors\n",
    "        output, error = process.communicate()\n",
    "        if error:\n",
    "            print(\"Error:\", error)\n",
    "            return False\n",
    "\n",
    "        return True\n",
    "\n",
    "    except Exception as e:\n",
    "        print(f\"Error during upload: {str(e)}\")\n",
    "        return False\n",
    "\n",
    "def read_and_upload_code(file_path):\n",
    "    with open(file_path, 'r') as f:\n",
    "        code = f.read()\n",
    "        return upload_code(code)"
   ]
  },
  {
   "cell_type": "code",
   "execution_count": 16,
   "metadata": {},
   "outputs": [
    {
     "name": "stdout",
     "output_type": "stream",
     "text": [
      "Available ports:\n",
      "/dev/ttyUSB1: CP2102 USB to UART Bridge Controller - CP2102 USB to UART Bridge Controller [USB VID:PID=10C4:EA60 SER=0001 LOCATION=3-4]\n"
     ]
    }
   ],
   "source": [
    "import serial.tools.list_ports\n",
    "\n",
    "def list_available_ports():\n",
    "    ports = serial.tools.list_ports.comports()\n",
    "    available_ports = []\n",
    "    for port, desc, hwid in sorted(ports):\n",
    "        print(f\"{port}: {desc} [{hwid}]\")\n",
    "        available_ports.append(port)\n",
    "    return available_ports\n",
    "\n",
    "print(\"Available ports:\")\n",
    "available_ports = list_available_ports()"
   ]
  },
  {
   "cell_type": "markdown",
   "metadata": {},
   "source": [
    "</details>\n",
    "<details open>\n",
    "<summary>"
   ]
  },
  {
   "cell_type": "markdown",
   "metadata": {},
   "source": [
    "### Uploading"
   ]
  },
  {
   "cell_type": "markdown",
   "metadata": {},
   "source": [
    "</summary>"
   ]
  },
  {
   "cell_type": "markdown",
   "metadata": {},
   "source": [
    "This is the upload fn in use:"
   ]
  },
  {
   "cell_type": "code",
   "execution_count": 17,
   "metadata": {},
   "outputs": [
    {
     "name": "stdout",
     "output_type": "stream",
     "text": [
      "_analogAudio.cpp\n",
      "_fft_v2.cpp\n",
      "blink_monitor.cpp\n",
      "a_mic_2_envelope_analyzed.cpp\n",
      "a_FastLedFTT.cpp\n",
      "_digitalAudio.cpp\n",
      "a_theatersound.cpp\n",
      "_fft_v1.cpp\n",
      "blink_serial.cpp\n",
      "a_sound2light3.cpp\n"
     ]
    }
   ],
   "source": [
    "import os\n",
    "directory = os.path.join(os.getcwd(), 'samples')\n",
    "files = os.listdir(directory)\n",
    "for file in files:\n",
    "    print(file)\n",
    "\n",
    "# file = 'a_FastLedFTT.cpp'\n",
    "# file = 'analogSoundSampleSketch.cpp'\n",
    "# file = 'gpt4_v4.cpp' \n",
    "# file = 'blink.cpp'"
   ]
  },
  {
   "cell_type": "code",
   "execution_count": 18,
   "metadata": {},
   "outputs": [],
   "source": [
    "directory = os.path.join(os.getcwd(), 'lightstrip') \n",
    "file = 'main.cpp'\n",
    "fin = directory+'/'+file"
   ]
  },
  {
   "cell_type": "code",
   "execution_count": 19,
   "metadata": {},
   "outputs": [
    {
     "data": {
      "text/plain": [
       "'/home/carlos/Documents/GitHub/lights/lightstrip'"
      ]
     },
     "execution_count": 19,
     "metadata": {},
     "output_type": "execute_result"
    }
   ],
   "source": [
    "directory"
   ]
  },
  {
   "cell_type": "code",
   "execution_count": 20,
   "metadata": {},
   "outputs": [
    {
     "data": {
      "text/plain": [
       "'/home/carlos/Documents/GitHub/lights/lightstrip/main.cpp'"
      ]
     },
     "execution_count": 20,
     "metadata": {},
     "output_type": "execute_result"
    }
   ],
   "source": [
    "fin"
   ]
  },
  {
   "cell_type": "markdown",
   "metadata": {},
   "source": [
    "fin"
   ]
  },
  {
   "cell_type": "code",
   "execution_count": 21,
   "metadata": {},
   "outputs": [],
   "source": [
    "directoryy = os.path.join(os.getcwd(), 'samples') \n",
    "filee = 'blink_serial.cpp'\n",
    "finn = directoryy+'/'+filee"
   ]
  },
  {
   "cell_type": "code",
   "execution_count": 24,
   "metadata": {},
   "outputs": [
    {
     "name": "stdout",
     "output_type": "stream",
     "text": [
      "Available ports:\n",
      "0: /dev/ttyUSB1 - CP2102 USB to UART Bridge Controller - CP2102 USB to UART Bridge Controller [USB VID:PID=10C4:EA60 SER=0001 LOCATION=3-4]\n",
      "Processing esp32dev (platform: espressif32; board: esp32dev; framework: arduino)\n",
      "--------------------------------------------------------------------------------\n",
      "Verbose mode can be enabled via `-v, --verbose` option\n",
      "CONFIGURATION: https://docs.platformio.org/page/boards/espressif32/esp32dev.html\n",
      "PLATFORM: Espressif 32 (6.10.0) > Espressif ESP32 Dev Module\n",
      "HARDWARE: ESP32 240MHz, 320KB RAM, 4MB Flash\n",
      "DEBUG: Current (cmsis-dap) External (cmsis-dap, esp-bridge, esp-prog, iot-bus-jtag, jlink, minimodule, olimex-arm-usb-ocd, olimex-arm-usb-ocd-h, olimex-arm-usb-tiny-h, olimex-jtag-tiny, tumpa)\n",
      "PACKAGES:\n",
      "- framework-arduinoespressif32 @ 3.20017.241212+sha.dcc1105b\n",
      "- tool-esptoolpy @ 1.40501.0 (4.5.1)\n",
      "- tool-mkfatfs @ 2.0.1\n",
      "- tool-mklittlefs @ 1.203.210628 (2.3)\n",
      "- tool-mkspiffs @ 2.230.0 (2.30)\n",
      "- toolchain-xtensa-esp32 @ 8.4.0+2021r2-patch5\n",
      "LDF: Library Dependency Finder -> https://bit.ly/configure-pio-ldf\n",
      "LDF Modes: Finder ~ chain, Compatibility ~ soft\n",
      "Found 35 compatible libraries\n",
      "Scanning dependencies...\n",
      "Dependency Graph\n",
      "|-- Adafruit NeoPixel @ 1.12.0\n",
      "|-- ArduinoJson @ 6.21.4\n",
      "|-- ESP32 BLE Arduino @ 2.0.0\n",
      "|-- WiFi @ 2.0.0\n",
      "Building in release mode\n",
      "Retrieving maximum program size .pio/build/esp32dev/firmware.elf\n",
      "Checking size .pio/build/esp32dev/firmware.elf\n",
      "Advanced Memory Usage is available via \"PlatformIO Home > Project Inspect\"\n",
      "RAM:   [==        ]  19.6% (used 64384 bytes from 327680 bytes)\n",
      "Flash: [======    ]  55.8% (used 1754653 bytes from 3145728 bytes)\n",
      "Configuring upload protocol...\n",
      "AVAILABLE: cmsis-dap, esp-bridge, esp-prog, espota, esptool, iot-bus-jtag, jlink, minimodule, olimex-arm-usb-ocd, olimex-arm-usb-ocd-h, olimex-arm-usb-tiny-h, olimex-jtag-tiny, tumpa\n",
      "CURRENT: upload_protocol = esptool\n",
      "Looking for upload port...\n",
      "Using manually specified: /dev/ttyUSB1\n",
      "Uploading .pio/build/esp32dev/firmware.bin\n",
      "esptool.py v4.5.1\n",
      "Serial port /dev/ttyUSB1\n",
      "Connecting......................................\n",
      "\n",
      "A fatal error occurred: Failed to connect to ESP32: No serial data received.\n",
      "For troubleshooting steps visit: https://docs.espressif.com/projects/esptool/en/latest/troubleshooting.html\n",
      "Error: *** [upload] Error 2\n",
      "========================== [FAILED] Took 8.97 seconds ==========================\n",
      "\n"
     ]
    },
    {
     "data": {
      "text/plain": [
       "False"
      ]
     },
     "execution_count": 24,
     "metadata": {},
     "output_type": "execute_result"
    }
   ],
   "source": [
    "read_and_upload_code(fin)"
   ]
  },
  {
   "cell_type": "markdown",
   "metadata": {},
   "source": [
    "</details>\n",
    "<details open>\n",
    "<summary>"
   ]
  },
  {
   "cell_type": "markdown",
   "metadata": {},
   "source": [
    "### Serial Logging"
   ]
  },
  {
   "cell_type": "markdown",
   "metadata": {},
   "source": [
    "</summary>"
   ]
  },
  {
   "attachments": {},
   "cell_type": "markdown",
   "metadata": {},
   "source": [
    "This is a simple example to read the serial output"
   ]
  },
  {
   "cell_type": "code",
   "execution_count": 16,
   "metadata": {},
   "outputs": [
    {
     "ename": "SerialException",
     "evalue": "device reports readiness to read but returned no data (device disconnected or multiple access on port?)",
     "output_type": "error",
     "traceback": [
      "\u001b[31m---------------------------------------------------------------------------\u001b[39m",
      "\u001b[31mSerialException\u001b[39m                           Traceback (most recent call last)",
      "\u001b[36mCell\u001b[39m\u001b[36m \u001b[39m\u001b[32mIn[16]\u001b[39m\u001b[32m, line 31\u001b[39m\n\u001b[32m     28\u001b[39m     \u001b[38;5;28mprint\u001b[39m(\u001b[33m\"\u001b[39m\u001b[33mTime elapsed. Exiting...\u001b[39m\u001b[33m\"\u001b[39m)\n\u001b[32m     29\u001b[39m     \u001b[38;5;28;01mbreak\u001b[39;00m\n\u001b[32m---> \u001b[39m\u001b[32m31\u001b[39m inpt = \u001b[43mser\u001b[49m\u001b[43m.\u001b[49m\u001b[43mreadline\u001b[49m\u001b[43m(\u001b[49m\u001b[43m)\u001b[49m\n\u001b[32m     32\u001b[39m \u001b[38;5;28;01mif\u001b[39;00m inpt:\n\u001b[32m     33\u001b[39m     \u001b[38;5;28mprint\u001b[39m(inpt.decode(\u001b[33m'\u001b[39m\u001b[33mutf-8\u001b[39m\u001b[33m'\u001b[39m).strip())\n",
      "\u001b[36mFile \u001b[39m\u001b[32m~/Documents/GitHub/lights/venv/lib/python3.11/site-packages/serial/serialposix.py:595\u001b[39m, in \u001b[36mSerial.read\u001b[39m\u001b[34m(self, size)\u001b[39m\n\u001b[32m    588\u001b[39m \u001b[38;5;28;01melse\u001b[39;00m:\n\u001b[32m    589\u001b[39m     \u001b[38;5;66;03m# read should always return some data as select reported it was\u001b[39;00m\n\u001b[32m    590\u001b[39m     \u001b[38;5;66;03m# ready to read when we get to this point.\u001b[39;00m\n\u001b[32m    591\u001b[39m     \u001b[38;5;28;01mif\u001b[39;00m \u001b[38;5;129;01mnot\u001b[39;00m buf:\n\u001b[32m    592\u001b[39m         \u001b[38;5;66;03m# Disconnected devices, at least on Linux, show the\u001b[39;00m\n\u001b[32m    593\u001b[39m         \u001b[38;5;66;03m# behavior that they are always ready to read immediately\u001b[39;00m\n\u001b[32m    594\u001b[39m         \u001b[38;5;66;03m# but reading returns nothing.\u001b[39;00m\n\u001b[32m--> \u001b[39m\u001b[32m595\u001b[39m         \u001b[38;5;28;01mraise\u001b[39;00m SerialException(\n\u001b[32m    596\u001b[39m             \u001b[33m'\u001b[39m\u001b[33mdevice reports readiness to read but returned no data \u001b[39m\u001b[33m'\u001b[39m\n\u001b[32m    597\u001b[39m             \u001b[33m'\u001b[39m\u001b[33m(device disconnected or multiple access on port?)\u001b[39m\u001b[33m'\u001b[39m)\n\u001b[32m    598\u001b[39m     read.extend(buf)\n\u001b[32m    600\u001b[39m \u001b[38;5;28;01mif\u001b[39;00m timeout.expired():\n",
      "\u001b[31mSerialException\u001b[39m: device reports readiness to read but returned no data (device disconnected or multiple access on port?)"
     ]
    }
   ],
   "source": [
    "import serial\n",
    "import time\n",
    "from IPython.display import clear_output\n",
    "\n",
    "def setup_serial_monitor(port=None, baudrate=115200):\n",
    "    if port is None:\n",
    "        port = get_serial_port()\n",
    "    if not port:\n",
    "        return None\n",
    "        \n",
    "    try:\n",
    "        ser = serial.Serial(port, baudrate, timeout=1)\n",
    "        ser.flushInput()\n",
    "        return ser\n",
    "    except serial.SerialException as e:\n",
    "        print(f\"Error opening port {port}: {e}\")\n",
    "        return None\n",
    "\n",
    "ser = setup_serial_monitor()\n",
    "if ser:\n",
    "    timeout = 30\n",
    "    start_time = time.time()  # Record the start time\n",
    "\n",
    "    try:\n",
    "        while True:\n",
    "            current_time = time.time()\n",
    "            if current_time - start_time > timeout: \n",
    "                print(\"Time elapsed. Exiting...\")\n",
    "                break\n",
    "\n",
    "            inpt = ser.readline()\n",
    "            if inpt:\n",
    "                print(inpt.decode('utf-8').strip())\n",
    "    except KeyboardInterrupt:\n",
    "        print(\"Keyboard Interrupt. Exiting...\")\n",
    "    finally: \n",
    "        ser.close()  # Ensure the serial connection is closed\n",
    "        clear_output()\n"
   ]
  },
  {
   "cell_type": "markdown",
   "metadata": {},
   "source": [
    "</details>\n",
    "<details open>\n",
    "<summary>"
   ]
  },
  {
   "cell_type": "markdown",
   "metadata": {},
   "source": [
    "### Serial Plotting"
   ]
  },
  {
   "cell_type": "markdown",
   "metadata": {},
   "source": [
    "</summary>"
   ]
  },
  {
   "attachments": {},
   "cell_type": "markdown",
   "metadata": {},
   "source": [
    "This is a more complex example"
   ]
  },
  {
   "cell_type": "code",
   "execution_count": null,
   "metadata": {},
   "outputs": [],
   "source": [
    "#collapse_input #hide_output\n",
    "monitor = \"\"\"\n",
    "import serial\n",
    "from IPython.display import clear_output, display\n",
    "import matplotlib.pyplot as plt\n",
    "import csv\n",
    "import time\n",
    "\n",
    "ser = serial.Serial()\n",
    "ser.baudrate = 115200\n",
    "ser.port = 'COM11'\n",
    "ser.open()\n",
    "ser.flushInput()\n",
    "\n",
    "# Create an empty list to store the data\n",
    "data = [0] * 100\n",
    "\n",
    "# Create the plot\n",
    "plt.ion() # Turn on interactive mode\n",
    "fig, ax = plt.subplots()\n",
    "line, = ax.plot(data)\n",
    "ax.set_title(\"Random Data\")\n",
    "ax.set_xlabel(\"Data Point\")\n",
    "ax.set_ylabel(\"Value\")\n",
    "\n",
    "try:\n",
    "    while True:\n",
    "        # Read a line of data from the serial port\n",
    "        inpt = ser.readline().decode('utf-8').strip()\n",
    "\n",
    "        # Parse the data and append it to the list\n",
    "        try:\n",
    "            value = int(inpt)\n",
    "            data.pop(0)  # Remove the first value from the list\n",
    "            data.append(value)  # Append the new value to the end of the list\n",
    "        except IndexError:\n",
    "            pass\n",
    "\n",
    "        # Update the plot\n",
    "        line.set_ydata(data)\n",
    "        ax.relim()\n",
    "        ax.autoscale_view()\n",
    "        fig.canvas.draw()\n",
    "        fig.canvas.flush_events()\n",
    "\n",
    "        # Display the plot\n",
    "        clear_output(wait=True)\n",
    "        display(fig)\n",
    "\n",
    "        # save the output \n",
    "        with open(\"test_data.csv\",\"a\", newline=\"\") as f:\n",
    "            writer = csv.writer(f,delimiter=\",\")\n",
    "            writer.writerow([time.time(),value])\n",
    "\n",
    "except KeyboardInterrupt:\n",
    "    print(\"Keyboard Interrupt. Exiting...\")\n",
    "finally:\n",
    "    ser.close()\n",
    "    clear_output()\n",
    "\"\"\""
   ]
  },
  {
   "cell_type": "markdown",
   "metadata": {},
   "source": [
    " "
   ]
  },
  {
   "cell_type": "code",
   "execution_count": null,
   "metadata": {},
   "outputs": [],
   "source": [
    "import os\n",
    "\n",
    "old = \"\"\"\n",
    "def list_ino_files(root_dir):\n",
    "    ino_files = []\n",
    "    for folder in os.listdir(root_dir):\n",
    "        folder_path = os.path.join(root_dir, folder)\n",
    "        if os.path.isdir(folder_path):\n",
    "            ino_file = os.path.join(folder_path, folder + '.ino')\n",
    "            if os.path.isfile(ino_file):\n",
    "                ino_files.append(ino_file)\n",
    "    return ino_files\n",
    "\n",
    "def print_ino_file_contents(file_index, ino_files):\n",
    "    if 0 <= file_index < len(ino_files):\n",
    "        with open(ino_files[file_index], 'r') as file:\n",
    "            contents = file.read()\n",
    "            print(ino_files[file_index])\n",
    "            print(contents)\n",
    "    else:\n",
    "        print(\"Invalid index.\")\n",
    "\n",
    "# Change this path to your root directory\n",
    "root_dir = r\"/home/carlos/Documents/GitHub/lights/upload.ipynb\\Arduino\\scripts\"\n",
    "\n",
    "# Listing and printing files with indexes\n",
    "ino_files = list_ino_files(root_dir)\n",
    "for index, file in enumerate(ino_files):\n",
    "    relative_path = os.path.relpath(file, root_dir)\n",
    "    print(f\"Index: {index}, File: {relative_path}\")\"\"\""
   ]
  },
  {
   "cell_type": "code",
   "execution_count": null,
   "metadata": {},
   "outputs": [],
   "source": [
    "# Example usage\n",
    "# print_ino_file_contents(28, ino_files)  # Replace 0 with your chosen index"
   ]
  },
  {
   "cell_type": "markdown",
   "metadata": {},
   "source": [
    "platformio run -target upload"
   ]
  },
  {
   "cell_type": "markdown",
   "metadata": {},
   "source": [
    "</details>\n",
    "<details open>\n",
    "<summary>"
   ]
  },
  {
   "cell_type": "markdown",
   "metadata": {},
   "source": [
    "</details>"
   ]
  },
  {
   "cell_type": "markdown",
   "metadata": {},
   "source": [
    "</details>"
   ]
  }
 ],
 "metadata": {
  "kernelspec": {
   "display_name": "venv",
   "language": "python",
   "name": "python3"
  },
  "language_info": {
   "codemirror_mode": {
    "name": "ipython",
    "version": 3
   },
   "file_extension": ".py",
   "mimetype": "text/x-python",
   "name": "python",
   "nbconvert_exporter": "python",
   "pygments_lexer": "ipython3",
   "version": "3.11.6"
  },
  "orig_nbformat": 4
 },
 "nbformat": 4,
 "nbformat_minor": 2
}
