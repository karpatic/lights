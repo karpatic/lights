{
 "cells": [
  {
   "cell_type": "markdown",
   "id": "a750f3a0",
   "metadata": {},
   "source": [
    "Wireless Technologies\n",
    "Communication Technologies\n",
    "IrDA - Infrared Data Association\n",
    "HomeRF - Home Radio Frequency\n",
    "Bluetooth - Short-range wireless communication\n",
    "RF - Radio Frequency\n",
    "Wireless - General wireless communication\n",
    "Mobile Phone - Cellular communication technology\n",
    "Networking Technologies\n",
    "Internet - Global network connectivity\n",
    "IoT - Internet of Things\n",
    "LTE - Long Term Evolution (4G wireless)\n",
    "Sensing and Navigation\n",
    "Radar - Radio Detection and Ranging\n",
    "GPS - Global Positioning System\n",
    "Power and Infrastructure\n",
    "Solar Energy - Solar-powered wireless systems\n",
    "Fiber Optic - Optical fiber communication\n",
    "Microwave - Microwave communication\n",
    "Satellite - Satellite communication\n",
    "RFID - Radio Frequency Identification\n",
    "Broadcasting\n",
    "AM and FM - Amplitude and Frequency Modulation radio"
   ]
  },
  {
   "cell_type": "markdown",
   "id": "c9df5768",
   "metadata": {},
   "source": [
    "BLUETOOTH NETWORK TOPOLOGIES\n",
    "\n",
    "Building automation, Bluetooth® supports multiple topology options to best meet the unique wireless connectivity needs of a diverse, global developer population.\n",
    "\n",
    "Point-to-Point\n",
    "\n",
    "Point-to-point is a network topology used for establishing one-to-one (1:1) device communications. The point-to-point topology available on Bluetooth Basic Rate/Enhanced Data Rate (BR/EDR) is optimized for audio streaming and is ideally suited for a wide range of wireless devices, such as speakers, headsets, and hands-free car kits. The point-to-point topology available on Bluetooth Low Energy (LE) is optimized for data transfer and is well suited for connected device products, such as fitness trackers, health monitors, and PC peripherals and accessories.\n",
    "\n",
    "LEARN MORE\n",
    "\n",
    "Broadcast\n",
    "\n",
    "Broadcast is a network topology used for establishing one-to-many (1:m) device communications. The broadcast topology available on Bluetooth LE is optimized for localized information sharing and is ideal for beacon solutions, such as those that provide point of interest (POI) information, item finding, and way-finding services.\n",
    "\n",
    "LEARN MORE\n",
    "\n",
    "Mesh\n",
    "\n",
    "Mesh is a network topology used for establishing many-to-many (m:m) device communications. The mesh topology available on Bluetooth LE enables the creation of large-scale device networks tailor-made for building automation, sensor network, asset tracking, and any solution where tens, hundreds, or thousands of devices need to reliably and securely communicate with one another.\n"
   ]
  }
 ],
 "metadata": {
  "language_info": {
   "name": "python"
  }
 },
 "nbformat": 4,
 "nbformat_minor": 5
}
