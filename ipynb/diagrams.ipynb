{
 "cells": [
  {
   "cell_type": "markdown",
   "id": "52ffe739",
   "metadata": {},
   "source": [
    "## Startup Process\n",
    "```mermaid\n",
    "flowchart LR\n",
    "    C[Serial.begin] --> D[strip.begin]\n",
    "    D --> E[updateLength/setBrightness]\n",
    "    E --> H[init stripData n oldStripData]\n",
    "    H --> I[initializeBLE_fn]\n",
    "```\n"
   ]
  },
  {
   "cell_type": "markdown",
   "id": "536d7811",
   "metadata": {},
   "source": [
    "> **Description:**\n",
    ">\n",
    "> The startup process initializes the LED strip controller by setting up serial communication, configuring the LED strip parameters (length, brightness, color order), and allocating memory for the strip data structures. It then instantiates the Bluetooth process by calling `initializeBLE`, which prepares the device for wireless communication. Only after these steps are complete does the main loop begin, allowing the system to respond to incoming messages and update the LED strip in real time. This ensures that all hardware and communication interfaces are ready before any data processing or animation occurs."
   ]
  },
  {
   "cell_type": "markdown",
   "id": "02c205b5",
   "metadata": {},
   "source": [
    "## Bluetooth Process\n",
    "```mermaid\n",
    "flowchart TD\n",
    "    J[onWrite event]\n",
    "    J --> K[parseAndUpdateData_fn]\n",
    "    K --> L[myData.updated = true]\n",
    "```\n"
   ]
  },
  {
   "cell_type": "markdown",
   "id": "7edbf18d",
   "metadata": {},
   "source": [
    "> **Description:**\n",
    ">\n",
    "> The `parseAndUpdateData` function is called when a Bluetooth message is received. It takes a JSON string and parses it into the `myData` structure, updating fields such as brightness, colors, mode, and other parameters. If parsing is successful, it sets `myData.updated = true`, signaling that new data has arrived and the LED strip should be refreshed with the new settings. This flag ensures that the main loop processes the new configuration and applies changes to the hardware."
   ]
  },
  {
   "cell_type": "markdown",
   "id": "a4575b11",
   "metadata": {},
   "source": [
    "## Main Loop Process\n",
    "```mermaid\n",
    "flowchart TD\n",
    "    A[loop_fn] --> B[handleStrip_fn]\n",
    "    B -- 1.mydata.updated --> E[cloneData_fn, setBrightness, length, type] \n",
    "    E --> H[strip.clear then show]\n",
    "    H --> J[transitionValue = 100]\n",
    "    B -- 2.update.stripData --> K[callModeFunction_fn]\n",
    "    B -- 3.display.stripData --> L{transitionValue < 2?}\n",
    "    L -- Yes --> M[show_fn]\n",
    "    L -- No --> N[blendAndShow_fn]\n",
    "    M --> O[strip.setPixelColor]\n",
    "    O --> P[strip.show]\n",
    "    N --> Q[blendColors_fn]\n",
    "    Q --> R[strip.setPixelColor]\n",
    "    R --> S[strip.show]\n",
    "```"
   ]
  },
  {
   "cell_type": "markdown",
   "id": "9309b6c9",
   "metadata": {},
   "source": [
    "> **Description:**\n",
    ">\n",
    "> The `handleStrip` function is the core routine that manages updates to the LED strip. When `myData.updated` is true, it refreshes the strip settings, copies the previous data for transitions, and prepares the strip for new effects. It then calls `callModeFunction`, which applies the selected lighting mode based on the current configuration. The strip is updated either directly or through blending, depending on the value of `transitionValue`. If a transition is in progress, colors are smoothly blended between the old and new states. The `updated` parameter acts as a trigger, ensuring that changes are only processed when new data arrives, making the system responsive to Bluetooth or other input events."
   ]
  },
  {
   "cell_type": "markdown",
   "id": "ed0c0747",
   "metadata": {},
   "source": [
    "# Lighting Basics"
   ]
  },
  {
   "cell_type": "markdown",
   "id": "b85fa94c",
   "metadata": {},
   "source": [
    "- Static: Passive, no animation.\n",
    "- Dynamic: Active, animates over time.\n",
    "- Modifier: Alters or combines effects; can be static or dynamic, and can be layered."
   ]
  },
  {
   "cell_type": "markdown",
   "id": "2409fd4e",
   "metadata": {},
   "source": [
    "# myData Attributes\n",
    "\n",
    "| Attribute      | Type      | Description                                               |\n",
    "|---------------|-----------|-----------------------------------------------------------|\n",
    "| brightness    | int       | LED strip brightness (0-100)                              |\n",
    "| lightMode     | char[32]  | Current lighting mode (e.g., \"static\", \"shift\")          |\n",
    "| colorOne      | uint32_t  | Primary color (RGB, 0xRRGGBB)                             |\n",
    "| colorTwo      | uint32_t  | Secondary color (RGB, 0xRRGGBB)                           |\n",
    "| colorThree    | uint32_t  | Tertiary color (RGB, 0xRRGGBB)                            |\n",
    "| ledCount      | int       | Number of LEDs in the strip                               |\n",
    "| maxCurrent    | int       | Maximum allowed current (mA)                              |\n",
    "| colorOrder    | uint16_t  | Color order for the strip (e.g., NEO_GRB + NEO_KHZ800)    |\n",
    "| pixelPin      | int       | GPIO pin connected to the LED strip                       |\n",
    "| pixelCount    | int       | Number of pixels (usually same as ledCount)               |\n",
    "| speed         | int       | Animation speed (0-100)                                   |\n",
    "| intensity     | int       | Effect intensity (0-100)                                  |\n",
    "| direction     | int       | Animation direction (0=forward, 1=reverse, 2=bounce)      |\n",
    "| count         | int       | Count parameter for effects (e.g., number of segments)     |\n",
    "| updated       | bool      | True if new data has arrived and should be processed       |"
   ]
  },
  {
   "cell_type": "markdown",
   "id": "e6cb85a5",
   "metadata": {},
   "source": [
    "# Effects and Modes"
   ]
  },
  {
   "cell_type": "markdown",
   "id": "5922eb87",
   "metadata": {},
   "source": [
    "Color coding:\n",
    "\n",
    "- Light green: Static modes\n",
    "- Light orange: Static modifier modes \n",
    "- Light purple: Dynamic modifier modes \n",
    "- Light blue: Dynamic modes\n"
   ]
  },
  {
   "cell_type": "markdown",
   "id": "c621586b",
   "metadata": {},
   "source": [
    "```mermaid\n",
    "graph LR\n",
    "\n",
    "  %% Static (light green, dark text)\n",
    "  mode_static -- colorOne --> effect_static\n",
    "  mode_static_tri -- colorOne, colorTwo, colorThree --> effect_static\n",
    "\n",
    "  %% Modifiers (static and dynamic)\n",
    "  mode_percent -- intensity, speed, colorOne --> effect_range\n",
    "  mode_percent_tri -- intensity, speed, colorOne, colorTwo, colorThree --> effect_range\n",
    "  mode_shift -- direction, inherits colors from previous mode --> effect_shift\n",
    "  mode_washing_machine -- direction, count, intensity, colorOne, colorTwo --> effect_shift\n",
    "  mode_breath -- speed, intensity, colorOne, colorTwo, colorThree, inherits colors from previous mode --> effect_fade\n",
    "  mode_candle -- colorOne, count, intensity, speed --> custom_candle_fn\n",
    "  mode_blink -- speed, colorOne --> effect_blink\n",
    "  mode_blink_toggle -- speed, colorOne, colorTwo --> effect_blink\n",
    "  mode_blink_random -- speed --> effect_blink\n",
    "  mode_blink_random -- randomColor --> randomColor\n",
    "\n",
    "  %% Effects used by Modes (dynamic listed last)\n",
    "  mode_swipe_random -- direction --> randomColor\n",
    "  mode_swipe_random -- direction --> effect_swipe\n",
    "  mode_swipe -- direction, colorOne, colorTwo --> effect_swipe \n",
    "  mode_colorloop -- speed --> Wheel\n",
    "  mode_sweep -- direction, colorOne, intensity, count --> effect_sweep\n",
    "  mode_sweep_dual -- direction, colorOne, colorTwo, intensity, count --> effect_sweep\n",
    "  mode_pacifica -- custom params --> custom_layered_waves\n",
    "  mode_sunrise -- custom params --> custom_gradient_blend\n",
    "  mode_aurora -- custom params --> custom_palette_blend\n",
    "\n",
    "  %% Color coding:\n",
    "\n",
    "  %% Static Modifier (light orange, dark text)\n",
    "  style mode_percent fill:#ffd580,color:#222\n",
    "  style mode_percent_tri fill:#ffd580,color:#222\n",
    "\n",
    "  %% Dynamic Modifier (light purple, dark text)\n",
    "  style mode_shift fill:#d1b3ff,color:#222\n",
    "  style mode_washing_machine fill:#d1b3ff,color:#222\n",
    "  style mode_breath fill:#d1b3ff,color:#222\n",
    "  style mode_blink fill:#d1b3ff,color:#222\n",
    "  style mode_blink_toggle fill:#d1b3ff,color:#222\n",
    "  style mode_blink_random fill:#d1b3ff,color:#222\n",
    "  style mode_candle fill:#d1b3ff,color:#222\n",
    "\n",
    "  %% Static (light green, dark text)\n",
    "  style mode_static fill:#b3e6b3,color:#222\n",
    "  style mode_static_tri fill:#b3e6b3,color:#222\n",
    "\n",
    "  %% Dynamic (light blue, dark text)\n",
    "  style mode_swipe fill:#b3c6e6,color:#222\n",
    "  style mode_swipe_random fill:#b3c6e6,color:#222\n",
    "  style mode_colorloop fill:#b3c6e6,color:#222\n",
    "  style mode_sweep fill:#b3c6e6,color:#222\n",
    "  style mode_sweep_dual fill:#b3c6e6,color:#222\n",
    "  style mode_pacifica fill:#b3c6e6,color:#222\n",
    "  style mode_sunrise fill:#b3c6e6,color:#222\n",
    "  style mode_aurora fill:#b3c6e6,color:#222\n",
    "```"
   ]
  },
  {
   "cell_type": "markdown",
   "id": "4ec48669",
   "metadata": {},
   "source": [
    "  mode_stream --> stub\n",
    "  mode_palette --> stub\n",
    "  mode_plasma --> stub\n",
    "  mode_perlin_move --> stub\n",
    "  mode_heartbeat --> stub\n",
    "  mode_twinkles --> stub\n",
    "  mode_sinelon_dual --> stub\n",
    "  mode_theater --> stub\n",
    "  mode_fireworks --> stub\n",
    "  mode_juggle --> stub\n",
    "  mode_bouncing_balls --> stub\n",
    "  mode_meteor --> stub\n",
    "  mode_tetrix --> stub"
   ]
  }
 ],
 "metadata": {
  "language_info": {
   "name": "python"
  }
 },
 "nbformat": 4,
 "nbformat_minor": 5
}
