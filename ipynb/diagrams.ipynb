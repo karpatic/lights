{
 "cells": [
  {
   "cell_type": "markdown",
   "id": "52ffe739",
   "metadata": {},
   "source": [
    "## Startup Process\n",
    "```mermaid\n",
    "flowchart LR\n",
    "    C[Serial.begin] --> D[strip.begin]\n",
    "    D --> E[updateLength/setBrightness]\n",
    "    E --> H[init stripData n oldStripData]\n",
    "    H --> I[initializeBLE_fn]\n",
    "```\n"
   ]
  },
  {
   "cell_type": "markdown",
   "id": "536d7811",
   "metadata": {},
   "source": [
    "> **Description:**\n",
    ">\n",
    "> The startup process initializes the LED strip controller by setting up serial communication, configuring the LED strip parameters (length, brightness, color order), and allocating memory for the strip data structures. It then instantiates the Bluetooth process by calling `initializeBLE`, which prepares the device for wireless communication. Only after these steps are complete does the main loop begin, allowing the system to respond to incoming messages and update the LED strip in real time. This ensures that all hardware and communication interfaces are ready before any data processing or animation occurs."
   ]
  },
  {
   "cell_type": "markdown",
   "id": "02c205b5",
   "metadata": {},
   "source": [
    "## Bluetooth Process\n",
    "```mermaid\n",
    "flowchart TD\n",
    "    J[onWrite event]\n",
    "    J --> K[parseAndUpdateData_fn]\n",
    "    K --> L[myData.updated = true]\n",
    "```\n"
   ]
  },
  {
   "cell_type": "markdown",
   "id": "7edbf18d",
   "metadata": {},
   "source": [
    "> **Description:**\n",
    ">\n",
    "> The `parseAndUpdateData` function is called when a Bluetooth message is received. It takes a JSON string and parses it into the `myData` structure, updating fields such as brightness, colors, mode, and other parameters. If parsing is successful, it sets `myData.updated = true`, signaling that new data has arrived and the LED strip should be refreshed with the new settings. This flag ensures that the main loop processes the new configuration and applies changes to the hardware."
   ]
  },
  {
   "cell_type": "markdown",
   "id": "a4575b11",
   "metadata": {},
   "source": [
    "## Main Loop Process\n",
    "```mermaid\n",
    "flowchart TD\n",
    "    A[loop_fn] --> B[handleStrip_fn]\n",
    "    B -- 1.mydata.updated --> E[cloneData_fn, setBrightness, length, type] \n",
    "    E --> H[strip.clear then show]\n",
    "    H --> J[transitionValue = 100]\n",
    "    B -- 2.update.stripData --> K[callModeFunction_fn]\n",
    "    B -- 3.display.stripData --> L{transitionValue < 2?}\n",
    "    L -- Yes --> M[show_fn]\n",
    "    L -- No --> N[blendAndShow_fn]\n",
    "    M --> O[strip.setPixelColor]\n",
    "    O --> P[strip.show]\n",
    "    N --> Q[blendColors_fn]\n",
    "    Q --> R[strip.setPixelColor]\n",
    "    R --> S[strip.show]\n",
    "```"
   ]
  },
  {
   "cell_type": "markdown",
   "id": "9309b6c9",
   "metadata": {},
   "source": [
    "> **Description:**\n",
    ">\n",
    "> The `handleStrip` function is the core routine that manages updates to the LED strip. When `myData.updated` is true, it refreshes the strip settings, copies the previous data for transitions, and prepares the strip for new effects. It then calls `callModeFunction`, which applies the selected lighting mode based on the current configuration. The strip is updated either directly or through blending, depending on the value of `transitionValue`. If a transition is in progress, colors are smoothly blended between the old and new states. The `updated` parameter acts as a trigger, ensuring that changes are only processed when new data arrives, making the system responsive to Bluetooth or other input events."
   ]
  },
  {
   "cell_type": "markdown",
   "id": "ed0c0747",
   "metadata": {},
   "source": [
    "# Lighting Basics"
   ]
  },
  {
   "cell_type": "markdown",
   "id": "b85fa94c",
   "metadata": {},
   "source": [
    "- Static: Passive, no animation.\n",
    "- Dynamic: Active, animates over time.\n",
    "- Modifier: Alters or combines effects; can be static or dynamic, and can be layered."
   ]
  },
  {
   "cell_type": "markdown",
   "id": "2409fd4e",
   "metadata": {},
   "source": [
    "# myData Attributes\n",
    "\n",
    "| Attribute      | Type      | Description                                               |\n",
    "|---------------|-----------|-----------------------------------------------------------|\n",
    "| brightness    | int       | LED strip brightness (0-100)                              |\n",
    "| lightMode     | char[32]  | Current lighting mode (e.g., \"static\", \"shift\")          |\n",
    "| colorOne      | uint32_t  | Primary color (RGB, 0xRRGGBB)                             |\n",
    "| colorTwo      | uint32_t  | Secondary color (RGB, 0xRRGGBB)                           |\n",
    "| colorThree    | uint32_t  | Tertiary color (RGB, 0xRRGGBB)                            |\n",
    "| ledCount      | int       | Number of LEDs in the strip                               |\n",
    "| maxCurrent    | int       | Maximum allowed current (mA)                              |\n",
    "| colorOrder    | uint16_t  | Color order for the strip (e.g., NEO_GRB + NEO_KHZ800)    |\n",
    "| pixelPin      | int       | GPIO pin connected to the LED strip                       |\n",
    "| pixelCount    | int       | Number of pixels (usually same as ledCount)               |\n",
    "| speed         | int       | Animation speed (0-100)                                   |\n",
    "| intensity     | int       | Effect intensity (0-100)                                  |\n",
    "| direction     | int       | Animation direction (0=forward, 1=reverse, 2=bounce)      |\n",
    "| count         | int       | Count parameter for effects (e.g., number of segments)     |\n",
    "| updated       | bool      | True if new data has arrived and should be processed       |"
   ]
  },
  {
   "cell_type": "markdown",
   "id": "e6cb85a5",
   "metadata": {},
   "source": [
    "# Effects and Modes"
   ]
  },
  {
   "cell_type": "markdown",
   "id": "b3c3f075",
   "metadata": {},
   "source": [
    "### **File Organization**\n",
    "- `lighting_modes_baselayer.cpp` - Base layer implementations\n",
    "- `lighting_modes_overlay.cpp` - Overlay mode implementations  \n",
    "- `lighting_modes_modifier.cpp` - Both static and dynamic modifier implementations\n",
    "- `lighting_modes.cpp` - Main dispatcher and forward declarations"
   ]
  },
  {
   "cell_type": "markdown",
   "id": "dcb5de89",
   "metadata": {},
   "source": [
    "## EFFECTS\n",
    "\n",
    "| Function Name         | Parameters                                          | Description                                                                                    |\n",
    "|-----------------------|-----------------------------------------------------|------------------------------------------------------------------------------------------------|\n",
    "| effect_static         | C                                                   | Sets all LEDs to the specified color                                                           |\n",
    "| effect_blink          | BG, blinkInterval                                   | Blinks between source and background data at the given interval                                |\n",
    "| effect_fade           | intensity                                           | Fades the LED data by the given intensity                                                      |\n",
    "| effect_range          | startPixel, endPixel, fadeIntensity                 | Applies fade to a range of pixels from startPixel to endPixel                                  |\n",
    "| effect_shift          | direction                                           | Shifts the LED data in the specified direction                                                 |\n",
    "| effect_swipe          | direction, C, overridePixelIndex                    | Lights pixels one at a time along a strip, optionally overriding a pixel index                 |\n",
    "| effect_sweep          | direction, C, dragLength, count, overridePixelIndex | Moves groups of LEDs across the strip with drag and count, optionally overriding a pixel index |\n",
    "| effect_breath         | intensity                                           | Fades between colors to create a breathing effect                                              |\n"
   ]
  },
  {
   "cell_type": "markdown",
   "id": "5feb2bb2",
   "metadata": {},
   "source": [
    "## Lighting Modes Reference Tables\n",
    "\n",
    "### Base Layer Modes\n",
    "\n",
    "| Mode Function | Parameters/Dependencies | Effect Function | Description |\n",
    "|---------------|------------------------|-----------------|-------------|\n",
    "| `mode_static` | colorOne | effect_static | Single solid color fill |\n",
    "| `mode_static_tri` | colorOne, colorTwo, colorThree | effect_static | Three-color sections |\n",
    "| `mode_perlin_move` | speed, pixelCount, fadeRate | -- | Perlin Noise movement |\n",
    "| `mode_sunrise` | palette, time, width | -- | Simulates gradual sunrise/sunset |\n",
    "| `mode_aurora` | palette, speed, intensity | -- | Aurora Borealis simulation |\n",
    "| `mode_pacifica` | palette, speed, angle | -- | Gentle ocean waves |\n",
    "| `mode_stream` | -- | effect_shift | Bands of random hues |\n",
    "| `mode_palette` | -- | -- | Color palette cycling |\n",
    "| `mode_plasma` | -- | -- | Plasma lamp effect |\n",
    "\n",
    "### Overlay Modes\n",
    "\n",
    "| Mode Function | Parameters/Dependencies | Effect Function | Description |\n",
    "|---------------|------------------------|-----------------|-------------|\n",
    "| `mode_swipe` | palette, colorOne, direction | effect_swipe | Lights pixels one at a time |\n",
    "| `mode_swipe_random` | direction, randomColor | effect_swipe | Random color wipe |\n",
    "| `mode_sweep` | direction | effect_sweep | Moves groups of LEDs across the strip |\n",
    "| `mode_sweep_dual` | speed, trail | effect_sweep | Sinelon from both directions |\n",
    "| `mode_theater` | speed, gapSize | effect_sweep | Theater effect with rainbow colors |\n",
    "| `mode_candle` | speed, intensity | -- | Flicker resembling a candle flame |\n",
    "| `mode_fireworks` | palette, speed, intensity | -- | A pixel shoots forward then explodes |\n",
    "| `mode_juggle` | speed, trail | -- | Colored dots running, leaving trails |\n",
    "| `mode_bouncing_balls` | gravity, ballCount | -- | Bouncing ball effect |\n",
    "| `mode_tetrix` | speed, width, oneColor | -- | Falling blocks stack |\n",
    "| `mode_meteor` | speed, trailLength | -- | Meteor trail effect |\n",
    "| `mode_colorloop` | speed | Wheel | Rainbow color cycling |\n",
    "\n",
    "### Modifier Modes\n",
    "\n",
    "| Mode Function | Parameters/Dependencies | Effect Function | Description |\n",
    "|---------------|------------------------|-----------------|-------------|\n",
    "| `mode_percent` | palette, colorOne, colorTwo, intensity | effect_range | Lights up a percentage of segment |\n",
    "| `mode_percent_tri` | intensity, colorOne, colorTwo, colorThree | effect_range | Tri-color percentage |\n",
    "| `mode_blink` | palette, loopInterval | effect_blink | Blinks between primary color and off |\n",
    "| `mode_blink_toggle` | speed, colorOne, colorTwo | effect_blink | Toggle between colors |\n",
    "| `mode_blink_random` | speed, randomColor | effect_blink | Random color flashing |\n",
    "| `mode_breath` | speed, inherits colors | effect_blink | Fades between primary and secondary color |\n",
    "| `mode_heartbeat` | speed, intensity | effect_fade | Pulsing rhythm like a heartbeat |\n",
    "| `mode_twinkles` | palette, fade, spawn, intensity | effect_fade | Colors fade in/out randomly |\n",
    "| `mode_shift` | speed, intensity, inherits colors | effect_shift | Shifts pixels in a direction |\n",
    "| `mode_washing_machine` | speed, intensity | effect_shift | Spins, slows, reverses directions |"
   ]
  },
  {
   "cell_type": "markdown",
   "id": "eead9f9e",
   "metadata": {},
   "source": [
    "overlays vs modifiers are dubious.\n",
    "overlays vs  displays are dubious\n",
    "\n",
    "need to break it into (twinkle_off-> intensity modifier) and (twinkle_on -> color overlay)"
   ]
  },
  {
   "cell_type": "markdown",
   "id": "55adc385",
   "metadata": {},
   "source": [
    "## Mission Objective: User-Composed Light Shows \n",
    "\n",
    "Composition System\n",
    "Users would create Sequences where each segment is a Mode Stack:\n",
    "\n",
    "Sequence: \"My Light Show\"\n",
    "├── Segment 1 (0-10s): \n",
    "│   ├── Base: mode_pacifica (ocean waves)\n",
    "│   ├── Overlay: mode_meteor (shooting stars)\n",
    "│   └── Modifier: mode_blink (subtle pulse)\n",
    "├── Segment 2 (10-20s):\n",
    "│   ├── Base: mode_plasma \n",
    "│   ├── Overlay: mode_meteor (shooting stars)\n",
    "│   └── Overlay: mode_fireworks\n",
    "├── Segment 3 (20-30s):\n",
    "│   ├── Base: mode_plasma \n",
    "│   ├── Base: mode_stream \n",
    "│   └── Modifier: mode_blink_toggle (subtle pulse) \n",
    "\n"
   ]
  },
  {
   "cell_type": "markdown",
   "id": "3536156b",
   "metadata": {},
   "source": [
    "ovewritable default colors for select modes \n",
    "same mode is consistent between segments"
   ]
  },
  {
   "cell_type": "markdown",
   "id": "19fe2eff",
   "metadata": {},
   "source": [
    "two color systems:\n",
    "\n",
    "Direct Colors: colorOne, colorTwo, colorThree from struct_message - user picks exact RGB values\n",
    "Palettes: Used in effects like mode_plasma with SEGMENT.color_from_palette() - predefined color schemes\n"
   ]
  },
  {
   "cell_type": "markdown",
   "id": "28a4bc6f",
   "metadata": {},
   "source": [
    "Each effect could have envelope parameters for Delay + ADSR:\n",
    "\n",
    "Attack: How quickly effect fades in\n",
    "Decay: Initial fade after peak\n",
    "Sustain: Steady-state level\n",
    "Release: Fade out time"
   ]
  },
  {
   "cell_type": "markdown",
   "id": "a3aa6848",
   "metadata": {},
   "source": [
    "UI Considerations\n",
    "The UI would need several panels:\n",
    "\n",
    "Timeline Editor: Horizontal timeline showing sequence segments\n",
    "Layer Stack: For each segment, show base/overlay/modifier layers\n",
    "Effect Library: Drag-and-drop available modes\n",
    "Parameter Panel: Adjust colors, speed, intensity, ADSR for selected effect\n",
    "Color/Palette Selector: Unified color system (need to resolve the dual system)"
   ]
  },
  {
   "cell_type": "markdown",
   "id": "ec128ee5",
   "metadata": {},
   "source": [
    "Technical Challenges to Solve\n",
    "Color System Unification: Decide whether to use direct colors OR palettes, or create a hybrid system\n",
    "Memory Management: Multiple overlapping effects will need careful memory allocation\n",
    "Timing System: Need precise timing for ADSR and sequence transitions\n",
    "Data Structure: Extend beyond current struct_message to handle complex compositions"
   ]
  },
  {
   "cell_type": "markdown",
   "id": "380b293e",
   "metadata": {},
   "source": [
    "Recommended Next Steps\n",
    "Standardize Color System: Make all effects work with both user colors AND palettes\n",
    "Create Composition Data Structure: Design how to store/transmit complex light shows\n",
    "Build Simple Stacking: Start with 2-layer combinations (base + overlay)\n",
    "Add ADSR to One Effect: Prototype the envelope system\n",
    "Design Timeline UI: Mockup the user interface flow"
   ]
  },
  {
   "cell_type": "markdown",
   "id": "c68b13d7",
   "metadata": {},
   "source": [
    "Improvements: \n",
    "- Shift amount, merge Blink and Breathe vs Fade, swipe merge w sweep using persist(overridePixelIndex)\n",
    "- effect_blend - Selects every n pixels to blend sideways\n",
    "- Perlin / random selected indices for bleaching and such\n",
    "- Segmenting\n",
    "- Bezier/ sigmoid for all speed intensity fade etc.\n",
    "\n",
    "> Juggle, Bouncing Balls, Meteor, Tetrix can use a common underlying function that animates moving objects (dots, balls, blocks) w (position, speed, trail, and color). \n",
    "> Plasma and Perlin Move can share a noise-based rendering function with different parameters. \n",
    "> Stream and Palette are more pattern-based, but could use a shared function for color cycling or zone-based coloring.\n"
   ]
  },
  {
   "cell_type": "markdown",
   "id": "58a646f5",
   "metadata": {},
   "source": []
  }
 ],
 "metadata": {
  "language_info": {
   "name": "python"
  }
 },
 "nbformat": 4,
 "nbformat_minor": 5
}
