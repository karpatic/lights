{
 "cells": [
  {
   "cell_type": "markdown",
   "metadata": {},
   "source": [
    "platformio run -target upload"
   ]
  },
  {
   "cell_type": "markdown",
   "metadata": {},
   "source": [
    "\n",
    "esp32 connects to via bluetooth to your phone\n",
    "esp32 creates access point with its name & password the same. starting w 'ESP32'\n",
    "Figure out if thats sufficient... \n",
    "Anyone who can connect to your wifi may subscribe for the AP's publishings\n",
    "... Only the Access Points struggle to communicate with eachother...\n",
    ".. They can communicate with eachther using the mesh network ...\n",
    "... but take orders from bluetooth or mqtt.\n",
    "esp32 Mesh\n",
    "\n",
    "first node will look for other nodes on the mesh\n",
    "if no mesh exists meeting the nodes specific requirements\n",
    "-- The node will Broadcast BT \n",
    "-- The node will Create its own Mesh using Defaults\n",
    "removing a node from the mesh will respond -> indicating to the user\n",
    "\n",
    "\n",
    "Every node in ESP-MESH that is able to form downstream connections (i.e. has a softAP interface) will periodically transmit Wi-Fi beacon frames\n",
    "A node uses beacon frames to allow other nodes to detect its presence and know of its status.\n",
    " Idle nodes will listen for beacon frames to generate a list of potential parent nodes, one of which the idle node will form an upstream connection with.\n",
    "\n",
    " The routing table of a particular node will consist of the MAC addresses of all nodes within the particular node’s subnetwork (including the MAC address of the particular node itself). Each routing table is internally partitioned into multiple subtables with each subtable corresponding to the subnetwork of each child node.\n",
    "\n",
    "\n",
    "How do users pair with eachother?\n",
    "Nodes scan for other APs \n",
    "-- inform the root node who informs the owner\n",
    "-- nodes can multi 'mesh' and merge information across networks\n"
   ]
  },
  {
   "cell_type": "markdown",
   "metadata": {},
   "source": [
    "Satellite or Command\n",
    "\n",
    "Raspberry Pi to flash binaries\n",
    "https://www.esp32.com/viewtopic.php?t=10227\n",
    "\n",
    "a flooding approach based on MAC to identify nodes will be used for configuring and assigning IP addresses and range.\n",
    "Gateway is the responsible node for setting up the network. Mesh network is administered purely by MAC-based flooding. IP is only used for routing the regular packets, IP address 192.168.0.0 is for the gateway and 192.168.255.255 is for broadcast.\n",
    "I want the ESP32 to act as a router with a DHCP\n",
    "What I want help with is -\n",
    "1) How to connect an ESP32 to multiple ESP32's (for MAC based flooding)\n",
    "2) How to receive a packet and simply route them without any delays\n",
    "compatible with TCP/IP and must route using IP addresses\n",
    "MAC routing and as the number of nodes increases the space-efficiency is inversely affected. While the routing scheme designed by me is specifically designed to be more efficient and space conserving. How bigger the network grows the space complexity will remain a constant in my network [which I intend to build ](however the maximum number of nodes is 250). Since the routing is based on TCP/IP header, it is also interoperable with the existing TCP/IP networks."
   ]
  },
  {
   "cell_type": "markdown",
   "metadata": {
    "id": "NG0rbaCNX6Ny"
   },
   "source": [
    "Plan\n",
    "\n",
    "```\n",
    "getName()\n",
    "setName()\n",
    "getWifiNamePass\n",
    "setWifiNamePass\n",
    "getDeviceName\n",
    "setDeviceName\n",
    "\n",
    "SubscribeTo\n",
    "BroadcastTo\n",
    "usersName\n",
    "\n",
    "MidiEvent() -> *keypress djpad* -> AudioEvent() \n",
    "AudioEvent -> Meyda() \n",
    "Meyda -> LightEvent() \n",
    "\n",
    "LightEvent -> audioFX(userName, [colors, duration, variation, intensity, transition])\n",
    "\n"
   ]
  },
  {
   "cell_type": "markdown",
   "metadata": {
    "id": "r0uTCNosX6Nz"
   },
   "source": [
    "Slider Knobs -> Volume Hi Mid Low\n",
    "Stop/ Start W/ Display\n",
    "\n",
    "Consider: OTA, Flash Defaults SPIFFS, Broad/Multi/Uni, Chip/Module/Board"
   ]
  },
  {
   "cell_type": "markdown",
   "metadata": {
    "id": "doVT2KnuX6N1"
   },
   "source": [
    "Plan Part 2\n",
    "\n",
    "- ColorWheel Maps to Octaves. Avg top 3 freq/colors\n",
    "\n",
    "1. Only Admin may broadcast\n",
    "2. gatway sends to children\n",
    "3. children never message siblings\n",
    "4. only msg 1 relative per bc & prefer to send to gateway\n",
    "5. children deliver inbound messages to gateway\n",
    "6. gateway delivers data to admin... go to step 1...\n",
    "- Broadcasts are limited by # hops. #hops is managed by GW?\n",
    "\n",
    "\n",
    "\n",
    "```\n",
    "On start look to storage for settings.\n",
    "try: connect to preferred network\n",
    "Except: \n",
    "  scanorEstablishDefaultNetwork()\n",
    "DefaultNetworkLoop():\n",
    "  if isDisconnected(): ScanorestablishDefaultNetwork()\n",
    "```\n",
    "\n",
    "userA -> gatewayA\n",
    "userB -> gatewayB\n",
    "userC -> gatewayC\n",
    "\n",
    "gatewayA -> nodeA1\n",
    "gatewayB -> nodeB1\n",
    "gatewayC -> nodeC1\n",
    "\n",
    "gatewayA -> nodeA2\n",
    "gatewayB -> nodeB2\n",
    "gatewayC -> nodeC2\n",
    "\n",
    "gatewayA -> nodeA3\n",
    "gatewayB -> nodeB3\n",
    "gatewayC -> nodeC3\n",
    "\n",
    "gatewayA -> gatewayB\n",
    "gatewayB -> gatewayA\n",
    "gatewayB -> gatewayC\n",
    "gatewayC -> gatewayB\n",
    "\n",
    "nodeA3 -> nodeB1\n",
    "nodeB1 -> nodeA3\n",
    "\n",
    "nodeC3 -> nodeB3\n",
    "nodeB3 -> nodeC3\n",
    "\n",
    "\n",
    "\n"
   ]
  },
  {
   "cell_type": "markdown",
   "metadata": {
    "id": "Bq9ngESiX6N2"
   },
   "source": [
    "- gateway broadcasts user cmds. leaf's unicast out farther but not to eachother.\n",
    "- gateway and leafs unicast recieved msgs to user if not from the user\n",
    "- Do not relay msgs from anyone other than the user\n",
    "- user may choose to relay a msg it recieved from someone else.\n",
    "\n",
    "pub/sub should allow you to act simply as a router or to extend the pub/sub by replicating and posting the message as well."
   ]
  },
  {
   "cell_type": "markdown",
   "metadata": {
    "id": "RZsXrKgoX6N3"
   },
   "source": [
    "Command and satellite must share same channel.\n",
    "\n",
    "Multi-Acess Frequency Hopping allows for a shared transmission medium\n",
    "\n",
    "1. 1Peer FF:FF:FF:FF -> Broadcast to all peers on ch -> esp32\n",
    "\n",
    "2. Set Peer Mac Addr -> Broadcast by sending to common mac addr -> ESP32\n",
    "\n",
    "3. Adhoc Addressing Layer\n",
    "\n",
    "Frequency hoping, channels limit # conn, multi access method requires\n",
    "- macaddr of other devices\n",
    "- or soft ap sharing\n",
    "- or bt sharing\n",
    "- or sendbroadcast to all on network\n",
    "\n",
    "How it works\n",
    "\n",
    "- Command->STA->WifiMacAddr()\n",
    "- Satellite->AP->WifiSoftAPMacAddr()\n",
    "- 0-14ch: 2.4GHZ: 802.11.n \n",
    "- Max paired devices = 20. Sent from STA or AP modes. \n",
    "- - -> circumvent unicasting by setting all nodes to have the same MAC ADDR "
   ]
  },
  {
   "cell_type": "markdown",
   "metadata": {
    "id": "hEo6gjMdX6N4"
   },
   "source": [
    "- Service/ Character\n",
    "- EspOwnerName\n",
    "- EspDeviceName\n",
    "- Pin 13 2\n",
    "- LED #\n",
    "- SSIDConnectorNamePrefix\n",
    "\n",
    "ifUpdates->Broadcast\n",
    "onReception => \n",
    "1. update State of leafnode values\n",
    "2. get rout node values\n",
    "3. subscriptionValues\n",
    " - Send data 2 clients so they may \"subscribe\".\n",
    " - Leaf nodes need a log(val @ timestamp)\n",
    "\n",
    "\n",
    "\n"
   ]
  },
  {
   "cell_type": "markdown",
   "metadata": {
    "id": "qVjfkhGpX6N4"
   },
   "source": [
    "## Setup\n",
    "1. ConfigDeviceAP (mac=ssid, pass=1234, print-yay!)\n",
    "2. RegisterCallbacks (msgsnt,msgrcvd-write2pin)\n",
    "3. Init ESPNow(onMsgSnt, OnMsgRcvd): refers to step 2\n",
    " - strip.begin\n",
    " - strip.show\n",
    " - BLEESP = ESPName\n",
    " - BLEESP.CreateService .createCharacteristic\n",
    " - BLEESP Register Callback\n",
    " - BLEESP Set Value(\"HelloWorld\")\n",
    " - BLEESP.start\n",
    "\n",
    "## Loop\n",
    "41. Scan4LeafNodes\n",
    " - Wifi.ScanNetwork\n",
    " - For Node in AP = add to list\n",
    "42. Manage Leaf Nodes\n",
    " - For each leaf node: if name = \"espname\": check if paired. \n",
    "43. Send Data - ESP\n",
    "44. If Command = XYZ\n"
   ]
  },
  {
   "cell_type": "markdown",
   "metadata": {
    "id": "-YNUi2XyX6N5"
   },
   "source": [
    "1. OnBLERecieved: if leafnodes -> ESPNow Broadcast. Run Command\n",
    "2. ONESPRecieved: if BLE!connected:DoNothing. Else: if send=\"espname:donothing\" else:\"send2ble\""
   ]
  },
  {
   "cell_type": "markdown",
   "metadata": {
    "id": "WVLW1CgFX6N5"
   },
   "source": [
    "#### Config Device AP\n",
    "- scan4leafnodes \n",
    " - if a node with esp.bt exists and you are not connected to the user then there is already a gateway and bluetooth is not needed for thihs node.\n",
    "- manage leaf nodes \n",
    " - try to connect to user usin bt. if success then change wifi name to include bt so that other nodes know that you are the gateway and they do not need to connect.\n",
    "- espnow_senddata(command) \n",
    " - if not leader do not send\n",
    " - only if leader. or send the data but only read from leaders & leaders would read from everyone...\n",
    "\n",
    "if btmessage -> relay out\n",
    "if publicmsg -> if msg is leader: run cmd & broadcast. else: if in group do nothing\n",
    "\n",
    "\n",
    "\n",
    "#### Partition Table\n",
    "Includes root. values from different people + all current data to be fwded from leafs to rest\n",
    "\n",
    "Group: Updated: Val\n",
    "\n",
    "Leafid: Updated: Val\n",
    "\n",
    "#### How MSG Works\n",
    "\n",
    "Within body of a node with an ssid=espname... Body(rootnodessid, rootsentthis@, command)\n",
    "- msg recv & isroot?\n",
    "- 1. & root nodessid = espname+bt\n",
    "- - runbroadcast, update timestamp, is command the same as before? \n",
    "- - check timestamp, same broadcast? relay nothing\n",
    "- 2. or root nodessid = espname only\n",
    "- - patitiontable: groupname:command:timestamp\n",
    "- 3. or root nodessid != espname... do nothing."
   ]
  }
 ],
 "metadata": {
  "colab": {
   "authorship_tag": "ABX9TyOL75xPTPE/NRfGrnwvU/d7",
   "provenance": []
  },
  "kernelspec": {
   "display_name": "Python 3",
   "name": "python3"
  },
  "language_info": {
   "name": "python"
  }
 },
 "nbformat": 4,
 "nbformat_minor": 0
}
