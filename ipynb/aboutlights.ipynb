{
 "cells": [
  {
   "attachments": {},
   "cell_type": "markdown",
   "metadata": {},
   "source": [
    "# About Lights\n",
    "> A brief description of what the lights page has to offer.\n",
    "\n",
    "- keywords: ['3D','3D Printing', 'Crypto', 'metaverse', 'navigation']"
   ]
  },
  {
   "cell_type": "markdown",
   "metadata": {},
   "source": [
    "<img src='https://charleskarpati.com/images/covers/aboutlights1.webp'>"
   ]
  },
  {
   "attachments": {},
   "cell_type": "markdown",
   "metadata": {},
   "source": [
    "<details open class=\"details\">\n",
    "<summary>"
   ]
  },
  {
   "attachments": {},
   "cell_type": "markdown",
   "metadata": {},
   "source": [
    "## About"
   ]
  },
  {
   "attachments": {},
   "cell_type": "markdown",
   "metadata": {},
   "source": [
    "</summary>"
   ]
  },
  {
   "cell_type": "markdown",
   "metadata": {},
   "source": [
    "The goal of this project is to create a mesh network of lights.<br><br>"
   ]
  },
  {
   "cell_type": "markdown",
   "metadata": {},
   "source": [
    "This project enables a mesh network of ESP32 boards to communicate using the ESP-NOW protocol while allowing a user's phone to update the network.\n",
    "\n",
    "The ESP's intercommunicate using the ESP-NOW protocol, and to a user's phone through a 1-to-1 Bluetooth connection. It includes two key functionalities:\n",
    "\n",
    "- **Broadcast Function**: Sends stored data to all devices in the mesh network to respond to data as individually configured. the ESP connected to a phone via Bluetooth will send notifications and receives commands to update the mesh network state.\n"
   ]
  },
  {
   "attachments": {},
   "cell_type": "markdown",
   "metadata": {},
   "source": [
    "</details>"
   ]
  }
 ],
 "metadata": {
  "kernelspec": {
   "display_name": "Python 3",
   "language": "python",
   "name": "python3"
  },
  "language_info": {
   "name": "python",
   "version": "3.10.2"
  },
  "orig_nbformat": 4,
  "vscode": {
   "interpreter": {
    "hash": "046b844cfe77f56867adc884800e389906328c66f60829dd4497d230d7e2d321"
   }
  }
 },
 "nbformat": 4,
 "nbformat_minor": 2
}
