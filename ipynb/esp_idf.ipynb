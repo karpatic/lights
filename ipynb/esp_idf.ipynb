{
 "cells": [
  {
   "cell_type": "markdown",
   "metadata": {},
   "source": [
    "# ESP IDF\n",
    "> A brief intro on the ESPs Development Framework\n",
    "\n",
    "- keywords: ['ESP-IDF', 'Tooling']\n"
   ]
  },
  {
   "cell_type": "markdown",
   "metadata": {},
   "source": [
    "## ESP-IDF vs Arduino-ESP32: Key Differences\n",
    "\n",
    "### What they are:\n",
    "- **ESP-IDF**: Official SDK by Espressif, built on FreeRTOS\n",
    "- **Arduino-ESP32**: Wrapper around ESP-IDF with Arduino-style APIs\n",
    "- **Arduino IDE**: Development environment (separate from libraries)\n",
    "\n",
    "### When to use Arduino-ESP32:\n",
    "- **Beginners** and simple hobby projects\n",
    "- **Low barrier to entry** with extensive ecosystem\n",
    "- **Cross-platform compatibility** (STM32, AVR, ESP8266, etc.)\n",
    "- Simple applications (sensor data + basic control)\n",
    "\n",
    "### When to use ESP-IDF:\n",
    "- **Serious embedded development**\n",
    "- **Complex applications** requiring multiple peripherals\n",
    "- **Performance-critical** projects\n",
    "- **Task-based architecture** (vs setup/loop pattern)\n",
    "- **Direct access** to all ESP32 features\n",
    "- **Reliability-critical** environments\n",
    "\n",
    "### Key Technical Differences:\n",
    "\n",
    "| Aspect | Arduino-ESP32 | ESP-IDF |\n",
    "|--------|---------------|---------|\n",
    "| Architecture | setup() + loop() | Task-based (FreeRTOS) |\n",
    "| Learning Curve | Easy | Moderate |\n",
    "| Performance | Good | Excellent |\n",
    "| Feature Access | Limited | Complete |\n",
    "| Debugging | Through wrapper | Direct |\n",
    "| Code Organization | Simple | Component-based |\n",
    "\n",
    "### Best of Both Worlds:\n",
    "You can combine both approaches:\n",
    "- Use **PlatformIO + VS Code** as IDE\n",
    "- Include **Arduino libraries as ESP-IDF components**\n",
    "- Access ESP-IDF functions when needed\n",
    "- Example: `pinMode()` alongside `gpio_set_direction()`\n",
    "\n",
    "### Recommendation:\n",
    "- **Start with Arduino-ESP32** for learning and prototyping\n",
    "- **Migrate to ESP-IDF** when projects become complex\n",
    "- **Use PlatformIO** for better development experience than Arduino IDE"
   ]
  },
  {
   "cell_type": "markdown",
   "metadata": {
    "id": "NSJ_X1zlX6Nt"
   },
   "source": [
    "## [Setup](https://docs.espressif.com/projects/esp-idf/en/latest/esp32/get-started/index.html)\n",
    "\n",
    "1. Install Prerequisites\n",
    " - Special ones for [Linux](https://docs.espressif.com/projects/esp-idf/en/latest/esp32/get-started/linux-setup.html)\n",
    " - Fix the Permission issues fordev/ttyUSB0\n",
    " - Set up Python 3 as default for Ubuntu\n",
    "2. Git clone Esp-Idf into ~/esp/esp-idf \n",
    "3. Set up the tools\n",
    "- Run /install.sh to setup compilation tools required by ESP-IDF into the user home directory ($HOME/.espressif on Linux)\n",
    "- - If you wish to install the tools into a different directory, set the environment variable IDF_TOOLS_PATH before running the installation scripts. Make sure that your user account has sufficient permissions to read and write this path.\n",
    "4. Set Up Enviornment Variables\n",
    "- ESP-IDF provides another script which does that. export.sh\n",
    "- - If you plan to use esp-idf frequently, you can create a .bashrc alias for executing export.sh\n",
    "- Now you can run get_idf to set up or refresh the esp-idf environment in any terminal session.\n",
    "5. Start A Project\n",
    "- find an [Example](https://github.com/espressif/esp-idf/tree/master/examples)\n",
    "```cd ~/esp cp -r $IDF_PATH/examples/get-started/hello_world .```\n",
    "6. Connect your device\n",
    "- ```ls /dev/tty*```\n",
    "7. Configure\n",
    "- Navigate to the Project Directory from Step 5\n",
    "- run the project configuration utility menuconfi\n",
    "-  ```cd ~/esp/hello_world``` ```idf.py set-target esp32``` ```idf.py menuconfig```\n",
    "- Setting the target with idf.py set-target esp32 should be done once, after opening a new project. (If the project contains some existing builds and configuration, they will be cleared and initialized)"
   ]
  },
  {
   "cell_type": "markdown",
   "metadata": {
    "id": "0JarKzlsqckz"
   },
   "source": [
    "## ESP ToolChain"
   ]
  },
  {
   "cell_type": "markdown",
   "metadata": {
    "id": "YC-lX8MEqckz"
   },
   "source": [
    "Tutorial: https://docs.espressif.com/projects/esp-idf/en/latest/get-started-cmake/linux-setup.html"
   ]
  },
  {
   "cell_type": "markdown",
   "metadata": {
    "id": "bBnbyTcPqckz"
   },
   "source": [
    "### Install Prerequeisites :\n"
   ]
  },
  {
   "cell_type": "markdown",
   "metadata": {
    "id": "3xsQDn4Wqckz"
   },
   "source": [
    "<code> ** sudo apt-get install git wget libncurses-dev flex bison gperf python python-pip python-setuptools python-serial python-cryptography python-future python-pyparsing python-pyelftools cmake ninja-build ccache ** </code>"
   ]
  },
  {
   "cell_type": "code",
   "execution_count": null,
   "metadata": {
    "id": "ZU_Of95Zqck0"
   },
   "outputs": [],
   "source": [
    "# Install Prerequisites\n",
    "!{'sudo apt-get install git wget libncurses-dev flex bison gperf python python-pip python-setuptools python-serial python-cryptography python-future python-pyparsing python-pyelftools cmake ninja-build ccache'}"
   ]
  },
  {
   "cell_type": "markdown",
   "metadata": {
    "id": "WJaLYrPPqck0"
   },
   "source": [
    "### Download the Toolchain"
   ]
  },
  {
   "cell_type": "markdown",
   "metadata": {
    "id": "WC-uM7jEqck0"
   },
   "source": [
    "ESP32 toolchain for Linux is available for download from Espressif website:\n",
    "\n",
    "https://dl.espressif.com/dl/xtensa-esp32-elf-linux64-1.22.0-80-g6c4433a-5.2.0.tar.gz\n",
    "\n",
    "Click the link above or run the Curl command below to download."
   ]
  },
  {
   "cell_type": "code",
   "execution_count": null,
   "metadata": {
    "id": "ZVu4GEjfqck0"
   },
   "outputs": [],
   "source": [
    "# !{'curl -O ./ https://dl.espressif.com/dl/xtensa-esp32-elf-linux64-1.22.0-80-g6c4433a-5.2.0.tar.gz'} "
   ]
  },
  {
   "cell_type": "markdown",
   "metadata": {
    "id": "ajLH4q_hqck1"
   },
   "source": [
    "### Then extract it in ~/esp directory.\n"
   ]
  },
  {
   "cell_type": "markdown",
   "metadata": {
    "id": "jtOWL2wZqck1"
   },
   "source": [
    "** <code>\n",
    "mkdir -p ~/esp \\ \\\n",
    "cd ~/esp \\ \\\n",
    "(Clicked Link)  tar -xzf ~/Downloads/xtensa-esp32-elf-linux64-1.22.0-80-g6c4433a-5.2.0.tar.gz \\ \\\n",
    "(Ran Curl Cmd) tar -xzf ~/xtensa-esp32-elf-linux64-1.22.0-80-g6c4433a-5.2.0.tar.gz \\ \\\n",
    "</code> **"
   ]
  },
  {
   "cell_type": "code",
   "execution_count": null,
   "metadata": {
    "id": "YLTWpyiHqck1"
   },
   "outputs": [],
   "source": [
    "# Unpack file\n",
    "!{'mkdir -p ~/esp && cd ~/esp && tar -xzf ~/Downloads/xtensa-esp32-elf-linux64-1.22.0-80-g6c4433a-5.2.0.tar.gz'}    Run multiple commands"
   ]
  },
  {
   "cell_type": "markdown",
   "metadata": {
    "id": "F-TbyxiNqck1"
   },
   "source": [
    "### Update your PATH env"
   ]
  },
  {
   "cell_type": "markdown",
   "metadata": {
    "id": "FrlYunMlqck2"
   },
   "source": [
    "The toolchain will be extracted into ~/esp/xtensa-esp32-elf/ directory.\n",
    "\n",
    "To use it, you will need to update your PATH environment variable in ~/.profile file. To make xtensa-esp32-elf available for all terminal sessions, add the following line to your ~/.profile file:\n",
    "\n",
    "**<code>\n",
    "  sudo geany ~/.profile  \\\n",
    "  export PATH=\"$HOME/esp/xtensa-esp32-elf/bin:$PATH\" \\\n",
    "  source ~/.profile \\\n",
    "</code>**"
   ]
  },
  {
   "cell_type": "markdown",
   "metadata": {
    "id": "IOWHXixEqck2"
   },
   "source": [
    "Alternatively, you may create an alias for the above command. This way you can get the toolchain only when you need it. Then when you need the toolchain you can type get_esp32 on the command line and the toolchain will be added to your PATH.\n",
    "\n",
    "To do this, add different line to your ~/.profile file:\n",
    "\n",
    "** <code>\n",
    "sudo geany ~/.profile \\\n",
    "alias get_esp32='export PATH=\"$HOME/esp/xtensa-esp32-elf/bin:$PATH\"' \\\n",
    "source ~/.profile \\\n",
    "</code>**"
   ]
  },
  {
   "cell_type": "markdown",
   "metadata": {
    "id": "iK3MZrUzqck2"
   },
   "source": [
    "*note: If you have /bin/bash set as login shell, and both .bash_profile and .profile exist, then update .bash_profile instead.\n",
    "\n",
    "Log off and log in back to make the .profile changes effective. \n",
    "\n",
    "Instead of /home/user-name there should be a home path specific to your installation.\n",
    "\n",
    "Run the following command to verify if PATH is correctly set:"
   ]
  },
  {
   "cell_type": "code",
   "execution_count": null,
   "metadata": {
    "id": "MryZuLqQqck3"
   },
   "outputs": [],
   "source": [
    "!{\"printenv PATH\"}"
   ]
  },
  {
   "cell_type": "markdown",
   "metadata": {
    "id": "FgGGekKSqck3"
   },
   "source": [
    "### Permission issues /dev/ttyUSB0\n"
   ]
  },
  {
   "cell_type": "markdown",
   "metadata": {
    "id": "5ZQwP98rqck3"
   },
   "source": [
    "With some Linux distributions you may get the Failed to open port /dev/ttyUSB0 error message when flashing the ESP32. This can be solved by adding the current user to the dialout group.\n",
    "\n",
    "Adding users to a dialout group:\n",
    "https://docs.espressif.com/projects/esp-idf/en/latest/get-started-cmake/establish-serial-connection.html#linux-dialout-group-cmake"
   ]
  },
  {
   "cell_type": "markdown",
   "metadata": {
    "id": "FCwcbpB3qck4"
   },
   "source": [
    "## Espressif IoT Development Framework (ESP-IDF)"
   ]
  },
  {
   "cell_type": "markdown",
   "metadata": {
    "id": "KkE2lS_8qck4"
   },
   "source": [
    "https://docs.espressif.com/projects/esp-idf/en/latest/"
   ]
  },
  {
   "cell_type": "markdown",
   "metadata": {
    "id": "kqBy4eIEqck4"
   },
   "source": [
    "ESP MESH\n",
    "\n",
    "https://docs.espressif.com/projects/esp-idf/en/latest/api-reference/network/esp_mesh.html\n",
    "\n",
    "https://docs.espressif.com/projects/esp-idf/en/latest/api-guides/mesh.html"
   ]
  },
  {
   "cell_type": "markdown",
   "metadata": {
    "id": "pHXEUP_Oqck4"
   },
   "source": [
    "ESP NOW\n",
    "\n",
    "https://docs.espressif.com/projects/esp-idf/en/latest/api-reference/network/esp_now.html\n",
    "\n",
    "Wifi Network Protocol\n",
    "\n",
    "Add Paired Device\n",
    "Before sending data to other device, call esp_now_add_peer() to add it to the paired device list first. The maximum number of paired devices is twenty."
   ]
  },
  {
   "cell_type": "markdown",
   "metadata": {
    "id": "QT-FzrYIqclR"
   },
   "source": [
    "https://randomnerdtutorials.com/esp32-flash-memory/\n",
    "\n",
    "https://docs.espressif.com/projects/esp-idf/en/latest/api-reference/storage/nvs_flash.html"
   ]
  }
 ],
 "metadata": {
  "colab": {
   "collapsed_sections": [
    "t8f9wcWkX6No",
    "Ky5UAKRvqcky",
    "0JarKzlsqckz",
    "FCwcbpB3qck4",
    "1FzmTThLqck5",
    "hKNTl39JPAtj",
    "f43FBCTeqcki"
   ],
   "provenance": []
  },
  "kernelspec": {
   "display_name": "Python 3",
   "name": "python3"
  }
 },
 "nbformat": 4,
 "nbformat_minor": 0
}
