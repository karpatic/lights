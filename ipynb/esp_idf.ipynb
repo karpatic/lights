{
 "cells": [
  {
   "cell_type": "markdown",
   "metadata": {},
   "source": [
    "## ESP-IDF vs Arduino-ESP32: Key Differences\n",
    "\n",
    "### What they are:\n",
    "- **ESP-IDF**: Official SDK by Espressif, built on FreeRTOS\n",
    "- **Arduino-ESP32**: Wrapper around ESP-IDF with Arduino-style APIs\n",
    "- **Arduino IDE**: Development environment (separate from libraries)\n",
    "\n",
    "### When to use Arduino-ESP32:\n",
    "- **Beginners** and simple hobby projects\n",
    "- **Low barrier to entry** with extensive ecosystem\n",
    "- **Cross-platform compatibility** (STM32, AVR, ESP8266, etc.)\n",
    "- Simple applications (sensor data + basic control)\n",
    "\n",
    "### When to use ESP-IDF:\n",
    "- **Serious embedded development**\n",
    "- **Complex applications** requiring multiple peripherals\n",
    "- **Performance-critical** projects\n",
    "- **Task-based architecture** (vs setup/loop pattern)\n",
    "- **Direct access** to all ESP32 features\n",
    "- **Reliability-critical** environments\n",
    "\n",
    "### Key Technical Differences:\n",
    "\n",
    "| Aspect | Arduino-ESP32 | ESP-IDF |\n",
    "|--------|---------------|---------|\n",
    "| Architecture | setup() + loop() | Task-based (FreeRTOS) |\n",
    "| Learning Curve | Easy | Moderate |\n",
    "| Performance | Good | Excellent |\n",
    "| Feature Access | Limited | Complete |\n",
    "| Debugging | Through wrapper | Direct |\n",
    "| Code Organization | Simple | Component-based |\n",
    "\n",
    "### Best of Both Worlds:\n",
    "You can combine both approaches:\n",
    "- Use **PlatformIO + VS Code** as IDE\n",
    "- Include **Arduino libraries as ESP-IDF components**\n",
    "- Access ESP-IDF functions when needed\n",
    "- Example: `pinMode()` alongside `gpio_set_direction()`\n",
    "\n",
    "### Recommendation:\n",
    "- **Start with Arduino-ESP32** for learning and prototyping\n",
    "- **Migrate to ESP-IDF** when projects become complex\n",
    "- **Use PlatformIO** for better development experience than Arduino IDE"
   ]
  },
  {
   "cell_type": "markdown",
   "metadata": {
    "id": "NSJ_X1zlX6Nt"
   },
   "source": [
    "## [Setup](https://docs.espressif.com/projects/esp-idf/en/latest/esp32/get-started/index.html)\n",
    "\n",
    "1. Install Prerequisites\n",
    " - Special ones for [Linux](https://docs.espressif.com/projects/esp-idf/en/latest/esp32/get-started/linux-setup.html)\n",
    " - Fix the Permission issues fordev/ttyUSB0\n",
    " - Set up Python 3 as default for Ubuntu\n",
    "2. Git clone Esp-Idf into ~/esp/esp-idf \n",
    "3. Set up the tools\n",
    "- Run /install.sh to setup compilation tools required by ESP-IDF into the user home directory ($HOME/.espressif on Linux)\n",
    "- - If you wish to install the tools into a different directory, set the environment variable IDF_TOOLS_PATH before running the installation scripts. Make sure that your user account has sufficient permissions to read and write this path.\n",
    "4. Set Up Enviornment Variables\n",
    "- ESP-IDF provides another script which does that. export.sh\n",
    "- - If you plan to use esp-idf frequently, you can create a .bashrc alias for executing export.sh\n",
    "- Now you can run get_idf to set up or refresh the esp-idf environment in any terminal session.\n",
    "5. Start A Project\n",
    "- find an [Example](https://github.com/espressif/esp-idf/tree/master/examples)\n",
    "```cd ~/esp cp -r $IDF_PATH/examples/get-started/hello_world .```\n",
    "6. Connect your device\n",
    "- ```ls /dev/tty*```\n",
    "7. Configure\n",
    "- Navigate to the Project Directory from Step 5\n",
    "- run the project configuration utility menuconfi\n",
    "-  ```cd ~/esp/hello_world``` ```idf.py set-target esp32``` ```idf.py menuconfig```\n",
    "- Setting the target with idf.py set-target esp32 should be done once, after opening a new project. (If the project contains some existing builds and configuration, they will be cleared and initialized)"
   ]
  },
  {
   "cell_type": "markdown",
   "metadata": {
    "id": "0JarKzlsqckz"
   },
   "source": [
    "# ESP ToolChain"
   ]
  },
  {
   "cell_type": "markdown",
   "metadata": {
    "id": "r-0_WeqrxB7y"
   },
   "source": [
    "## Required for both IDF and MDF"
   ]
  },
  {
   "cell_type": "markdown",
   "metadata": {
    "id": "YC-lX8MEqckz"
   },
   "source": [
    "Tutorial: https://docs.espressif.com/projects/esp-idf/en/latest/get-started-cmake/linux-setup.html"
   ]
  },
  {
   "cell_type": "markdown",
   "metadata": {
    "id": "bBnbyTcPqckz"
   },
   "source": [
    "### Install Prerequeisites :\n"
   ]
  },
  {
   "cell_type": "markdown",
   "metadata": {
    "id": "3xsQDn4Wqckz"
   },
   "source": [
    "<code> ** sudo apt-get install git wget libncurses-dev flex bison gperf python python-pip python-setuptools python-serial python-cryptography python-future python-pyparsing python-pyelftools cmake ninja-build ccache ** </code>"
   ]
  },
  {
   "cell_type": "code",
   "execution_count": null,
   "metadata": {
    "id": "ZU_Of95Zqck0"
   },
   "outputs": [],
   "source": [
    "# Install Prerequisites\n",
    "!{'sudo apt-get install git wget libncurses-dev flex bison gperf python python-pip python-setuptools python-serial python-cryptography python-future python-pyparsing python-pyelftools cmake ninja-build ccache'}"
   ]
  },
  {
   "cell_type": "markdown",
   "metadata": {
    "id": "WJaLYrPPqck0"
   },
   "source": [
    "### Download the Toolchain"
   ]
  },
  {
   "cell_type": "markdown",
   "metadata": {
    "id": "WC-uM7jEqck0"
   },
   "source": [
    "ESP32 toolchain for Linux is available for download from Espressif website:\n",
    "\n",
    "https://dl.espressif.com/dl/xtensa-esp32-elf-linux64-1.22.0-80-g6c4433a-5.2.0.tar.gz\n",
    "\n",
    "Click the link above or run the Curl command below to download."
   ]
  },
  {
   "cell_type": "code",
   "execution_count": null,
   "metadata": {
    "id": "ZVu4GEjfqck0"
   },
   "outputs": [],
   "source": [
    "# !{'curl -O ./ https://dl.espressif.com/dl/xtensa-esp32-elf-linux64-1.22.0-80-g6c4433a-5.2.0.tar.gz'} "
   ]
  },
  {
   "cell_type": "markdown",
   "metadata": {
    "id": "ajLH4q_hqck1"
   },
   "source": [
    "### Then extract it in ~/esp directory.\n"
   ]
  },
  {
   "cell_type": "markdown",
   "metadata": {
    "id": "jtOWL2wZqck1"
   },
   "source": [
    "** <code>\n",
    "mkdir -p ~/esp \\ \\\n",
    "cd ~/esp \\ \\\n",
    "(Clicked Link)  tar -xzf ~/Downloads/xtensa-esp32-elf-linux64-1.22.0-80-g6c4433a-5.2.0.tar.gz \\ \\\n",
    "(Ran Curl Cmd) tar -xzf ~/xtensa-esp32-elf-linux64-1.22.0-80-g6c4433a-5.2.0.tar.gz \\ \\\n",
    "</code> **"
   ]
  },
  {
   "cell_type": "code",
   "execution_count": null,
   "metadata": {
    "id": "YLTWpyiHqck1"
   },
   "outputs": [],
   "source": [
    "# Unpack file\n",
    "!{'mkdir -p ~/esp && cd ~/esp && tar -xzf ~/Downloads/xtensa-esp32-elf-linux64-1.22.0-80-g6c4433a-5.2.0.tar.gz'}    Run multiple commands"
   ]
  },
  {
   "cell_type": "markdown",
   "metadata": {
    "id": "F-TbyxiNqck1"
   },
   "source": [
    "### Update your PATH env"
   ]
  },
  {
   "cell_type": "markdown",
   "metadata": {
    "id": "FrlYunMlqck2"
   },
   "source": [
    "The toolchain will be extracted into ~/esp/xtensa-esp32-elf/ directory.\n",
    "\n",
    "To use it, you will need to update your PATH environment variable in ~/.profile file. To make xtensa-esp32-elf available for all terminal sessions, add the following line to your ~/.profile file:\n",
    "\n",
    "**<code>\n",
    "  sudo geany ~/.profile  \\\n",
    "  export PATH=\"$HOME/esp/xtensa-esp32-elf/bin:$PATH\" \\\n",
    "  source ~/.profile \\\n",
    "</code>**"
   ]
  },
  {
   "cell_type": "markdown",
   "metadata": {
    "id": "IOWHXixEqck2"
   },
   "source": [
    "Alternatively, you may create an alias for the above command. This way you can get the toolchain only when you need it. Then when you need the toolchain you can type get_esp32 on the command line and the toolchain will be added to your PATH.\n",
    "\n",
    "To do this, add different line to your ~/.profile file:\n",
    "\n",
    "** <code>\n",
    "sudo geany ~/.profile \\\n",
    "alias get_esp32='export PATH=\"$HOME/esp/xtensa-esp32-elf/bin:$PATH\"' \\\n",
    "source ~/.profile \\\n",
    "</code>**"
   ]
  },
  {
   "cell_type": "markdown",
   "metadata": {
    "id": "iK3MZrUzqck2"
   },
   "source": [
    "*note: If you have /bin/bash set as login shell, and both .bash_profile and .profile exist, then update .bash_profile instead.\n",
    "\n",
    "Log off and log in back to make the .profile changes effective. \n",
    "\n",
    "Instead of /home/user-name there should be a home path specific to your installation.\n",
    "\n",
    "Run the following command to verify if PATH is correctly set:"
   ]
  },
  {
   "cell_type": "code",
   "execution_count": null,
   "metadata": {
    "id": "MryZuLqQqck3"
   },
   "outputs": [],
   "source": [
    "!{\"printenv PATH\"}"
   ]
  },
  {
   "cell_type": "markdown",
   "metadata": {
    "id": "FgGGekKSqck3"
   },
   "source": [
    "### Permission issues /dev/ttyUSB0\n"
   ]
  },
  {
   "cell_type": "markdown",
   "metadata": {
    "id": "5ZQwP98rqck3"
   },
   "source": [
    "With some Linux distributions you may get the Failed to open port /dev/ttyUSB0 error message when flashing the ESP32. This can be solved by adding the current user to the dialout group.\n",
    "\n",
    "Adding users to a dialout group:\n",
    "https://docs.espressif.com/projects/esp-idf/en/latest/get-started-cmake/establish-serial-connection.html#linux-dialout-group-cmake"
   ]
  },
  {
   "cell_type": "markdown",
   "metadata": {
    "id": "FCwcbpB3qck4"
   },
   "source": [
    "# Espressif IoT Development Framework (ESP-IDF)"
   ]
  },
  {
   "cell_type": "markdown",
   "metadata": {
    "id": "KkE2lS_8qck4"
   },
   "source": [
    "https://docs.espressif.com/projects/esp-idf/en/latest/"
   ]
  },
  {
   "cell_type": "markdown",
   "metadata": {
    "id": "kqBy4eIEqck4"
   },
   "source": [
    "ESP MESH\n",
    "\n",
    "https://docs.espressif.com/projects/esp-idf/en/latest/api-reference/network/esp_mesh.html\n",
    "\n",
    "https://docs.espressif.com/projects/esp-idf/en/latest/api-guides/mesh.html"
   ]
  },
  {
   "cell_type": "markdown",
   "metadata": {
    "id": "pHXEUP_Oqck4"
   },
   "source": [
    "ESP NOW\n",
    "\n",
    "https://docs.espressif.com/projects/esp-idf/en/latest/api-reference/network/esp_now.html\n",
    "\n",
    "Wifi Network Protocol\n",
    "\n",
    "Add Paired Device\n",
    "Before sending data to other device, call esp_now_add_peer() to add it to the paired device list first. The maximum number of paired devices is twenty."
   ]
  },
  {
   "cell_type": "markdown",
   "metadata": {
    "id": "1FzmTThLqck5"
   },
   "source": [
    "# ESP Mesh Development Framework (ESP-MDF)"
   ]
  },
  {
   "cell_type": "markdown",
   "metadata": {
    "id": "nu0_iaJoqck5"
   },
   "source": [
    "https://docs.espressif.com/projects/esp-mdf/en/latest/?badge=latest\n",
    "\n",
    "https://github.com/espressif/esp-mdf#espressif-mesh-development-framework\n",
    "\n",
    "Sitting on top of the Espressif IoT Development Framework (ESP-IDF), the official development framework for the chip, this new framework is a way to develop mesh networking solutions using the ESP32 chip."
   ]
  },
  {
   "cell_type": "markdown",
   "metadata": {
    "id": "qFFi9Rmqqck5"
   },
   "source": [
    "Mwifi API\n",
    "\n",
    "https://docs.espressif.com/projects/esp-mdf/en/latest/api-reference/mwifi/index.html\n",
    "\n",
    "Mwifi (Wi-Fi Mesh) is the encapsulation of ESP-MESH APIs, and it adds to ESP-MESH the retransmission filter, data compression, fragmented transmission, and P2P multicast features.\n",
    "\n",
    "\n"
   ]
  },
  {
   "cell_type": "markdown",
   "metadata": {
    "id": "YRtdEUp9qck6"
   },
   "source": [
    "## API's\n",
    "\n",
    "### Utils - MCommon (eventloop, errorcheck)\n",
    "### Utils - Transmission - Mwifi\n",
    "### Utils - Transmission - Mespnow\n",
    "### Components - Mconfig (mconfig-blufi, mconfig-chain)\n",
    "### Components - Mupgrade (OTA, factory)\n",
    "### Components - Mlink (HTP Server, Association)\n",
    "### Third Party\n",
    "### Configuration Options\n",
    "Applications developers can use make menuconfig build target to edit components’ configuration. \n",
    "\n",
    "This configuration is saved inside sdkconfig file in the project root directory. \n",
    "\n",
    "Based on sdkconfig, application build targets will generate sdkconfig.h file in the build directory, and will make sdkconfig options available to component makefiles.\n"
   ]
  },
  {
   "cell_type": "markdown",
   "metadata": {
    "id": "FLInXPkrqck6"
   },
   "source": [
    "- An application interfaces with ESP-MESH via ESP-MESH Events\n",
    "- it is also possible for the application to interface with the Wi-Fi driver via the Wi-Fi Event Task. \n",
    "- The mesh_event_id_t defines all possible ESP-MESH system events and can indicate events such as the connection/disconnection of parent/child. \n",
    "- Before ESP-MESH system events can be used, the application must register a Mesh Event Callback via esp_mesh_set_config()\n",
    "- The callback is used to receive events from the ESP-MESH stack as well as the LwIP Stack and should contain handlers for each event relevant to the application.\n",
    "\n",
    "- Typical use cases of system events include using events such as MESH_EVENT_PARENT_CONNECTED and MESH_EVENT_CHILD_CONNECTED to indicate when a node can begin transmitting data upstream and downstream respectively.\n",
    "\n",
    "- **When using ESP-MESH under self-organized mode, users must ensure that no calls to Wi-Fi API are made. This is due to the fact that the self-organizing mode will internally make Wi-Fi API calls to connect/disconnect/scan etc. Any Wi-Fi calls from the application (including calls from callbacks and handlers of Wi-Fi events) may interfere with ESP-MESH’s self-organizing behavior. Therefore, user’s should not call Wi-Fi APIs after esp_mesh_start() is called, and before esp_mesh_stop() is called.**\n",
    "\n",
    "\n"
   ]
  },
  {
   "cell_type": "markdown",
   "metadata": {
    "id": "5o0zJeaiqck7"
   },
   "source": [
    "## LwIP & ESP-MESH\n",
    "- The application can access the ESP-MESH stack directly without having to go through the LwIP stack.\n",
    "- "
   ]
  },
  {
   "cell_type": "markdown",
   "metadata": {
    "id": "lD_9gcW_qck7"
   },
   "source": [
    "## Initialize Mesh -> esp_mesh_init())"
   ]
  },
  {
   "cell_type": "markdown",
   "metadata": {
    "id": "V-i3egPHqck8"
   },
   "source": [
    "## Configure an ESP-MESH Network -> esp_mesh_set_config()"
   ]
  },
  {
   "cell_type": "markdown",
   "metadata": {
    "id": "9pou5D-Hqck8"
   },
   "source": [
    "- Parameter |\tDescription\n",
    "- Channel\t| Range from 1 to 14\n",
    "- Event Callback |\tCallback for Mesh Events, see mesh_event_cb_t\n",
    "- Mesh ID\t| ID of ESP-MESH Network, see mesh_addr_t\n",
    "- Router\t| Router Configuration, see mesh_router_t\n",
    "- Mesh AP |\tMesh AP Configuration, see mesh_ap_cfg_t\n",
    "- Crypto Functions |\tCrypto Functions for Mesh IE, see mesh_crypto_funcs_t"
   ]
  },
  {
   "cell_type": "markdown",
   "metadata": {
    "id": "93DmG9JTqck9"
   },
   "source": [
    "## Start Mesh -> esp_mesh_start()"
   ]
  },
  {
   "cell_type": "markdown",
   "metadata": {
    "id": "x2le1CuCqck9"
   },
   "source": [
    "- After starting ESP-MESH, the application should check for ESP-MESH events to determine when it has connected to the network. \n",
    "- After connecting, the application can start transmitting and receiving packets over the ESP-MESH network using **esp_mesh_send()** and **esp_mesh_recv()**."
   ]
  },
  {
   "cell_type": "markdown",
   "metadata": {
    "id": "69daDAL2qck-"
   },
   "source": [
    "## Self Organized Networking"
   ]
  },
  {
   "cell_type": "markdown",
   "metadata": {
    "id": "nLigcEA1qck-"
   },
   "source": [
    "- Selection or election of the root node (see Automatic Root Node Selection in Building a Network)\n",
    "- Selection of a preferred parent node (see Parent Node Selection in Building a Network)\n",
    "- Automatic reconnection upon detecting a disconnection (see Intermediate Parent Node Failure in Managing a Network)\n",
    "\n",
    "Self organized networking can be enabled or disabled by the application at runtime by calling the esp_mesh_set_self_organized() function. The function has the two following parameters:\n",
    "\n",
    "- bool enable specifies whether to enable or disable self organized networking.\n",
    "- bool select_parent specifies whether a new parent node should be selected when enabling self organized networking. Selecting a new parent has different effects depending the node type and the node’s current state. This parameter is unused when disabling self organized networking.\n",
    "\n",
    "esp_mesh_set_self_organized(false, false);\n",
    "\n",
    "ESP-MESH will attempt to maintain the node’s current Wi-Fi state when disabling self organized networking.\n",
    "\n",
    "- If the node was previously connected to other nodes, it will remain connected.\n",
    "- If the node was previously disconnected and was scanning for a parent node or router, it will stop scanning.\n",
    "- If the node was previously attempting to reconnect to a parent node or router, it will stop reconnecting."
   ]
  },
  {
   "cell_type": "markdown",
   "metadata": {
    "id": "f43FBCTeqcki"
   },
   "source": [
    "# CPP"
   ]
  },
  {
   "cell_type": "markdown",
   "metadata": {
    "id": "Q5Ch6Fu-qckk"
   },
   "source": [
    "https://docs.microsoft.com/en-us/cpp/cpp/header-files-cpp?view=vs-2019"
   ]
  },
  {
   "cell_type": "code",
   "execution_count": null,
   "metadata": {
    "id": "DeWUPSl2qckk"
   },
   "outputs": [],
   "source": [
    "The declaration tells the compiler whether the element is an int, a double, a function, a class or some other thing\n",
    "int x; // declaration\n",
    "x = 42; // use x\n",
    "\n",
    "When you compile a program, each .cpp file is compiled independently into a compilation unit. \n",
    "The compiler has no knowledge of what names are declared in other compilation units. \n",
    "That means that if you define a class or function or global variable, you must provide a declaration of that thing in each additional .cpp file that uses it. \n",
    "Each declaration of that thing must be exactly identical in all files. \n",
    "A slight inconsistency will cause errors, or unintended behavior, when the linker attempts to merge all the compilation units into a single program.\n",
    "\n",
    "Why Headers\n",
    "\n",
    "To minimize the potential for errors, C++ has adopted the convention of using header files to contain declarations. \n",
    "You make the declarations in a header file, then use the #include directive in every .cpp file or other header file that requires that declaration. \n",
    "The #include directive inserts a copy of the header file directly into the .cpp file prior to compilation."
   ]
  },
  {
   "cell_type": "markdown",
   "metadata": {
    "id": "l22H5d_3qclG"
   },
   "source": [
    "## BT"
   ]
  },
  {
   "cell_type": "markdown",
   "metadata": {
    "id": "tnWa1icnqclL"
   },
   "source": [
    "https://www.youtube.com/watch?v=qE0UimODxNg\n",
    "\n",
    "check if you can connect to the internet\n",
    "-if you can -> check for updated version -> update -> restart\n",
    "broadcast bluetooth\n",
    "-\n",
    "Search and subscribe to up to 4 ESP32 wifi AP's\n",
    "\n",
    "Beacon frame is one of the management frames in IEEE 802.11 based WLANs. It contains all the information about the network. Beacon frames are transmitted periodically, they serve to announce the presence of a wireless LAN and to synchronise the members of the service set. Beacon frames are transmitted by the access point (AP)\n",
    "\n",
    "multi mesh\n",
    "MeshName = esp_<networkName>_<nodeID>_<UserName>\n",
    "\n",
    "every node has to be connected with once via bluetooth.\n",
    "once connected the node the Users Name.\n",
    "A Node can only have one Users Name registered.\n",
    "The Node can also be given group names of mesh networks it should connect with.\n",
    "\n",
    "the complication im having is that the desirable mesh network plays no reliance on any one node\n",
    "what im doing here though is forcing communication to relay from  the broker.\n",
    "\n",
    "only the root node broadcasts messages. \n",
    "any leaf node directs single messages back to the root(s). \n",
    "It doesn't matter how the topology is configured.\n",
    "nodes can have multiple meshes (like one to respond to the owner, one to an external source)\n",
    "In such an event. the mesh messages from the external source gets directed to the internal\n",
    "root node. the root node may then send a direct message back to the leaf who will then send a\n",
    "directed message to the other root from the external source. end transaction.\n",
    "\n",
    "receivedCallback( uint32_t from, String &msg )\n",
    ":setNewConnectionCallback( &newConnectionCallback ) This fires every time the local node makes a new connection\n",
    "###bool easyMesh::sendBroadcast('msg')\n",
    "###bool easyMesh::sendSingle('id','msg')\n",
    "###connectionCount() \n",
    "::getChipId( void )\n",
    "getNodeTime( void )\n",
    " "
   ]
  },
  {
   "cell_type": "markdown",
   "metadata": {
    "id": "QT-FzrYIqclR"
   },
   "source": [
    "https://randomnerdtutorials.com/esp32-flash-memory/\n",
    "\n",
    "https://docs.espressif.com/projects/esp-idf/en/latest/api-reference/storage/nvs_flash.html"
   ]
  }
 ],
 "metadata": {
  "colab": {
   "collapsed_sections": [
    "t8f9wcWkX6No",
    "Ky5UAKRvqcky",
    "0JarKzlsqckz",
    "FCwcbpB3qck4",
    "1FzmTThLqck5",
    "hKNTl39JPAtj",
    "f43FBCTeqcki"
   ],
   "provenance": []
  },
  "kernelspec": {
   "display_name": "Python 3",
   "name": "python3"
  }
 },
 "nbformat": 4,
 "nbformat_minor": 0
}
