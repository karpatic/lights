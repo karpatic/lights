{
 "cells": [
  {
   "cell_type": "code",
   "execution_count": null,
   "metadata": {},
   "outputs": [],
   "source": [
    "# About wled\n",
    "> A brief description of what the wled has to offer.\n",
    "\n",
    "- keywords: ['esp32', 'wled', 'navigation']"
   ]
  },
  {
   "cell_type": "markdown",
   "metadata": {},
   "source": [
    "<img src='https://charleskarpati.com/images/covers/wled1.webp'>"
   ]
  },
  {
   "cell_type": "markdown",
   "metadata": {},
   "source": [
    "## About"
   ]
  },
  {
   "cell_type": "markdown",
   "metadata": {},
   "source": [
    "WLED is one of the best light controller applications out there. I flashed a whole bunch of light strips with it for prototyping and for practical purposes to great effect."
   ]
  },
  {
   "cell_type": "markdown",
   "metadata": {},
   "source": [
    "The Wiki [Page](https://github.com/atuline/WLED/wiki) says WLED supports:\n",
    "\n",
    "- Several volume reactive effects.\n",
    "- Several FFT (frequency) reactive effects.\n",
    "- Some new non-reactive 1D effects."
   ]
  },
  {
   "cell_type": "markdown",
   "metadata": {},
   "source": [
    "If you want to use WLED in your own project, here are some pages to get you started:\n",
    "\n",
    "- [Install page](https://install.wled.me/)\n",
    "- [Troubleshooting](https://github.com/atuline/WLED/wiki/My--device--is-not-working)\n",
    "- Analog Sound Sampling [Sketch](https://github.com/atuline/WLED/wiki/Analog-Sound-Sampling-Sketch-Example)\n",
    "- [Reactive audio repo](https://github.com/Aircoookie/WLED/blob/d1fed11d0d0e93b727d8156e9523f3d1a47ce05f/usermods/audioreactive/audio_reactive.h#L95)\n",
    "- [Original repo](https://github.com/atuline/WLED)\n",
    "- [WledIndexScript](https://github.com/Aircoookie/WLED/blob/d1fed11d0d0e93b727d8156e9523f3d1a47ce05f/wled00/data/index.js#L781)\n",
    "- [Youtube](https://www.youtube.com/watch?v=KplepH9BT9w&t=68s)\n",
    "- [Animations](https://github.com/atuline/WLED/wiki/Reactive-Animations)\n",
    "- [First-Time-Setup](https://github.com/atuline/WLED/wiki/First-Time-Setup)"
   ]
  },
  {
   "cell_type": "markdown",
   "metadata": {},
   "source": [
    "## Select Notes"
   ]
  },
  {
   "cell_type": "markdown",
   "metadata": {},
   "source": [
    "### Install and compile [instructions](https://github.com/atuline/WLED/wiki/Installing-and-Compiling)\n"
   ]
  },
  {
   "cell_type": "markdown",
   "metadata": {},
   "source": [
    "Compiling from Platform IO\n",
    "\n",
    "- ⇛ First read [compiling](https://kno.wled.ge/advanced/compiling-wled/)\n",
    "- → Use source code from the [repo](https://github.com/atuline/WLED/tree/master)\n",
    "- → Start with one of the sound reactive compile environments, like env:soundReactive_esp32dev\n",
    "- → Read wled00/wled.h, add your own settings to wled00/my_config.h\n",
    "- → Put your own compile environment(s) into platformio_override.ini.\n",
    "\n",
    "SoundReactive has some additional compile time options - see wled00/audio_reactive.h and wled00/audio_source.h."
   ]
  },
  {
   "cell_type": "markdown",
   "metadata": {},
   "source": [
    "WLED no longer supports the Arduino IDE so Platformio is the way to go.\n",
    "\n",
    "- [Analog example](https://github.com/atuline/WLED/wiki/Analog-Sound-Sampling-Sketch-Example)\n",
    "- [Digital Example](https://github.com/atuline/WLED/wiki/Digital-Sound-Sampling-Sketch-Example) \n",
    "\n",
    "- The default 'partition size' is 1MB. \n",
    "- Troubleshooting? Try to re-flash/clear the device and perform a 'Factory reset' after flashing it."
   ]
  },
  {
   "cell_type": "markdown",
   "metadata": {},
   "source": [
    "### [UDP-Sound-Sync](https://github.com/atuline/WLED/wiki/UDP-Sound-Sync)"
   ]
  },
  {
   "cell_type": "markdown",
   "metadata": {},
   "source": [
    "UDP Sound Sync does not sync the actual animations, but rather transmits summary audio sampling information to several devices that still run their own animations locally. In a nutshell, it means that several devices can share a single microphone.\n"
   ]
  }
 ],
 "metadata": {
  "language_info": {
   "name": "python"
  }
 },
 "nbformat": 4,
 "nbformat_minor": 2
}
