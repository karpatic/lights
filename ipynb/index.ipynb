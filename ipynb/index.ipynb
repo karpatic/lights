{
 "cells": [
  {
   "attachments": {},
   "cell_type": "markdown",
   "metadata": {},
   "source": [
    "# Lights\n",
    "> The LED App.\n",
    "\n",
    "- keywords: ['Audio','Music','Mesh Network', 'Esp32']"
   ]
  },
  {
   "cell_type": "markdown",
   "metadata": {},
   "source": [
    "<script>\n",
    "    console.log('heckya'); \n",
    "</script>"
   ]
  },
  {
   "cell_type": "markdown",
   "metadata": {},
   "source": [
    "<img src='https://charleskarpati.com/images/covers/lights1.webp'>"
   ]
  },
  {
   "attachments": {},
   "cell_type": "markdown",
   "metadata": {},
   "source": [
    "## Intro"
   ]
  },
  {
   "attachments": {},
   "cell_type": "markdown",
   "metadata": {},
   "source": [
    "This site is a playground to experiment with ESP32's and WebBluetooth.   \n",
    "\n",
    "The idea is to create interactive lightshows that are mobile-ready and don't muck around with wifi. \n",
    "\n",
    "Once connected to a phone via Bluetooth, the ESP32-lightstrip will relay your commands to a mesh network of other ESP's, if available. "
   ]
  },
  {
   "cell_type": "markdown",
   "metadata": {},
   "source": [
    "## Dashboard"
   ]
  },
  {
   "cell_type": "markdown",
   "metadata": {},
   "source": [
    "If you have a ESP32 flashed with my code, a demo will appear once connected:"
   ]
  },
  {
   "cell_type": "markdown",
   "metadata": {},
   "source": [
    "<button id=\"btConnect\" onclick=\"window.ble()\">BT Connect</button>\n",
    "<script> window.w=window</script>\n",
    "  <div id=\"btDash\" style='display:none'> \n",
    "    <style> input { width: 100px; clip: auto; } </style>\n",
    "    <div>\n",
    "      <div> Color One: <input type=\"color\" id=\"colorOne\" value=\"#ff00cb\" /> </div>\n",
    "      <div> Color Two: <input type=\"color\" id=\"colorTwo\" value=\"#00ffcb\" /> </div>\n",
    "      <div> Color Three: <input type=\"color\" id=\"colorThree\" value=\"#cb00ff\" /> </div>\n",
    "      <div> Animation Delay: <input type=\"number\" min=\"1\" max=\"65535\" step=\"5\" id=\"loopInterval\" value=\"100\"> </div>\n",
    "      <div> Brightness: <input type=\"number\" step=\"5\" min=\"0\" max=\"255\" id=\"brightness\" value=\"40\"/> </div>\n",
    "      <div> LED Count: <input type=\"number\" min=\"15\" max=\"1024\" step=\"15\" id=\"ledCount\" value=\"50\"/> </div>\n",
    "      <div> Pixel Pin: <input type=\"number\" min=\"0\" max=\"33\" id=\"pixelPin\" value=\"15\"/> </div>\n",
    "      <div> Max Current (mA): <input type=\"number\" min=\"500\" max=\"20000\" step=\"100\" id=\"maxCurrent\" value=\"8000\"/> </div>\n",
    "    </div>\n",
    "    <div style=\"display: flex; flex-direction: row; height: 65px;\"> \n",
    "      <!-- brightness, lightMode, colorOne, colorTwo, colorThree, loopInterval -->\n",
    "      <button onclick=\"w.myData.lightMode = 'setColor'; w.bleWrite()\"> Set Color </button>\n",
    "      <button onclick=\"w.myData.lightMode = 'swipe'; w.bleWrite()\"> Color Swipe </button>\n",
    "      <button onclick=\"w.myData.lightMode = 'theaterChase'; w.bleWrite()\"> Theater Chase </button>\n",
    "      <button onclick=\"w.myData.lightMode = 'rainbow'; w.bleWrite()\"> Rainbow </button>\n",
    "      <button onclick=\"w.myData.lightMode = 'rainbowCycle'; w.bleWrite()\"> Rainbow Cycle </button>\n",
    "      <button onclick=\"w.myData.lightMode = 'theaterChaseRainbow'; w.bleWrite()\"> Theater Chase Rainbow </button>\n",
    "      <button onclick=\"w.myData.colorOne = w.getRandomColor(); w.bleWrite()\">  RANDOM </button>\n",
    "    </div>\n",
    "  </div>\n",
    "</div>"
   ]
  },
  {
   "cell_type": "markdown",
   "metadata": {},
   "source": [
    "A web based <a href='https://carlos-a-diez.com/music/dj.html'>DJ Panel</a> also exists that can broadcast colors from a real time audio analysis."
   ]
  },
  {
   "cell_type": "markdown",
   "metadata": {},
   "source": [
    "</details> "
   ]
  },
  {
   "attachments": {},
   "cell_type": "markdown",
   "metadata": {},
   "source": [
    "<script>\n",
    "    console.log('heckya');\n",
    "    // current solution of conditionally loading article-dependent scripts from main.js is bloaty\n",
    "    // having ipynb import/execute scripts is cleaner but mean's scripts aren't webpacked unless done elsewhere. \n",
    "</script>"
   ]
  },
  {
   "cell_type": "code",
   "execution_count": 3,
   "metadata": {},
   "outputs": [
    {
     "data": {
      "text/html": [
       "<script type=\"module\">\n",
       "  console.log('Starting'); \n",
       "  async function loadScript() {  \n",
       "    let isDev = window.location.origin.includes('localhost'); \n",
       "    try { const module = await import('./lights.js');\n",
       "    } catch (error) { console.error('Failed to load script from file'); }\n",
       "    window.lights = document.getElementById('lights');\n",
       "    console.log('window', window); \n",
       "  } \n",
       "  loadScript();\n",
       "</script>\n"
      ],
      "text/plain": [
       "<IPython.core.display.HTML object>"
      ]
     },
     "metadata": {},
     "output_type": "display_data"
    }
   ],
   "source": [
    "%%html\n",
    "<script type=\"module\">\n",
    "  console.log('Starting'); \n",
    "  async function loadScript() {  \n",
    "    let isDev = window.location.origin.includes('localhost'); \n",
    "    try { const module = await import('./lights.js');\n",
    "    } catch (error) { console.error('Failed to load script from file'); }\n",
    "    window.lights = document.getElementById('lights');\n",
    "    console.log('window', window); \n",
    "  } \n",
    "  loadScript();\n",
    "</script>"
   ]
  },
  {
   "cell_type": "markdown",
   "metadata": {},
   "source": [
    "<details open>\n",
    "<summary>"
   ]
  },
  {
   "cell_type": "markdown",
   "metadata": {},
   "source": [
    "## Nav"
   ]
  },
  {
   "cell_type": "markdown",
   "metadata": {},
   "source": [
    "</summary> \n",
    "\n",
    "A collection of assorted notes:\n",
    "\n",
    "- [Lights](/lights.html) - Lighting strips, power concerns, and diffusers.   \n",
    "- [Sound](/audio.html) - Audio analysis features overview.  \n",
    "- [Web](/web.html) - Covers WebMidi, WebUsb.  \n",
    "- [WLED](/wled.html) - Once you know what it is, you'll see it everywhere. \n",
    "- [ESP32](/esp32.html) - My ESP32 Development Guide.\n",
    "- [Plan](/plan.html) - Project planning and roadmap. \n",
    "- [Board Designs](/board_designs.html) - PCB layouts and components. \n",
    "- [Licensing](/licensing.html) - Information around the word 'Bluetooth'. "
   ]
  },
  {
   "cell_type": "markdown",
   "metadata": {},
   "source": [
    "</details>"
   ]
  }
 ],
 "metadata": {
  "kernelspec": {
   "display_name": "venv",
   "language": "python",
   "name": "python3"
  },
  "language_info": {
   "codemirror_mode": {
    "name": "ipython",
    "version": 3
   },
   "file_extension": ".py",
   "mimetype": "text/x-python",
   "name": "python",
   "nbconvert_exporter": "python",
   "pygments_lexer": "ipython3",
   "version": "3.11.6"
  },
  "orig_nbformat": 4
 },
 "nbformat": 4,
 "nbformat_minor": 2
}
