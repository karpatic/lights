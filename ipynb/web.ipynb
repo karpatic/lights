{
 "cells": [
  {
   "cell_type": "markdown",
   "metadata": {},
   "source": [
    "# Web Usb Midi\n",
    "> Some notes on Microcontrollers and Web Midi and Web Usb.\n",
    "\n",
    "- keywords: ['esp32', 'Microcontroller', 'Arduino', 'WebUsb', 'WebSerial']"
   ]
  },
  {
   "cell_type": "markdown",
   "metadata": {},
   "source": [
    "<details>\n",
    "<summary>"
   ]
  },
  {
   "cell_type": "markdown",
   "metadata": {
    "id": "Lhbx1D69RYu3"
   },
   "source": [
    "## JS Basics"
   ]
  },
  {
   "cell_type": "markdown",
   "metadata": {},
   "source": [
    "</summary>"
   ]
  },
  {
   "cell_type": "markdown",
   "metadata": {},
   "source": [
    "Most browsers can interface with hardware using:"
   ]
  },
  {
   "cell_type": "markdown",
   "metadata": {},
   "source": [
    "**WebUSB** - Directly communicate with USB devices... [Readon](https://developers.google.com/web/fundamentals/native-hardware/build-for-webusb)  \n",
    "**WebMIDI** - Access MIDI input and outputs.  \n",
    "**WebSerial** - For USB-to-Serial devices and UART-based communication... [Readon](https://developer.chrome.com/docs/capabilities/serial)  \n",
    "**WebBluetooth** -  Bluetooth Low Energy (BLE) specifically. "
   ]
  },
  {
   "cell_type": "markdown",
   "metadata": {},
   "source": [
    "</details>\n",
    "<details>\n",
    "<summary>"
   ]
  },
  {
   "cell_type": "markdown",
   "metadata": {},
   "source": [
    "## USB"
   ]
  },
  {
   "cell_type": "markdown",
   "metadata": {},
   "source": [
    "</summary>"
   ]
  },
  {
   "cell_type": "markdown",
   "metadata": {},
   "source": [
    "### Library - Processor Compatability\n",
    "\n",
    "You can find a list of compatible arduino boards at the [webusb/arduino GitHub repository](https://github.com/webusb/arduino)\n",
    "\n",
    "Most arduino boards are atmega328 or atmega32u4 \n",
    "\n",
    "**atmega32u4** - supports midiusb as it is native usb, as do all avr chips.  \n",
    "**SAMD 21** - atmels mcu's boards will always provide keyboard and mice emulation. Uses 32 bit ARM core m0+\n",
    "\n",
    "\n",
    "Adafruit has comprhensive articles that covers: Using WebUSB with Arduino and TinyUSB:\n",
    "- [Library, Board, and TinyUSB Selection](https://learn.adafruit.com/using-webusb-with-arduino-and-tinyusb/library-board-and-tinyusb-selection)\n",
    "- [Compatible Microcontrollers](https://learn.adafruit.com/using-webusb-with-arduino-and-tinyusb/compatible-microcontrollers)\n",
    "\n",
    "Midi USB Supports\n",
    "- AVR core > 1.6.8\n",
    "- SAMcore > 1.6.4\n",
    "- SAMDcore > 1.6.1\n",
    "- For any microController w/ native usb capabailities \n",
    "- 9ATMega32u4 & ARM Boards\n",
    "- leonardo, micro, zero\n",
    "\n",
    "Tiny USB Supports\n",
    "- nRF52_arduino\n",
    "- ArduinoCore_SAMD\n",
    "- expressif : ESP32-S2\n",
    "- STM: STM32\n",
    "- SAMD: SAMD 11, 21, 51\n",
    "\n",
    "### Board - Library Compatibility\n",
    "\n",
    "**Pro Trinket**: [Pro Trinket USB Mouse Library](https://github.com/adafruit/Pro_Trinket_USB_Mouse)  \n",
    "**Pro Micro** (ATmega32U4): [WebUSB on ATmega32U4](https://www.iot-experiments.com/webusb-arduino-pro-micro-atmega32u4/)  \n",
    "**Circuit Playground Express** (ATSAMD21): [CircuitPython HID Keyboard and Mouse](https://learn.adafruit.com/adafruit-circuit-playground-express/circuitpython-hid-keyboard-and-mouse)  \n",
    "**Circuit Playground** (ATmega32U4): Not compatible with TinyUSB  \n",
    "**Arduino Zero / Genuino** (SAMD21, ~$42): Native USB support  \n",
    "**Arduino Pro Mini** (ATmega328): Requires USB-Serial adapter  \n",
    "**Seeeduino XIAO** (SAMD21, ~$5): Native USB support  \n",
    "**Teensy Boards**: Natively support USB"
   ]
  },
  {
   "cell_type": "markdown",
   "metadata": {},
   "source": [
    "</details>\n",
    "<details>\n",
    "<summary>"
   ]
  },
  {
   "cell_type": "markdown",
   "metadata": {
    "id": "xRtoIgdLzUjW"
   },
   "source": [
    "## Midi\n"
   ]
  },
  {
   "cell_type": "markdown",
   "metadata": {},
   "source": [
    "</summary>"
   ]
  },
  {
   "cell_type": "markdown",
   "metadata": {
    "id": "oQt2QDJqzUjb"
   },
   "source": [
    "### General MIDI Spec\n",
    "\n",
    "**Note On Message**\n",
    "\n",
    "- **Status Byte**: `10010000`  \n",
    "  - First bit: always `1` (indicates status byte)  \n",
    "  - First 4 bits: command = `1001` (Note On)  \n",
    "  - Last 4 bits: channel = `0000` (channel 1)\n",
    "\n",
    "- **Data Byte 1**: Note number  \n",
    "  - Range: 0–127  \n",
    "  - Percussion notes: 35–81 (e.g., 56 = cowbell)  \n",
    "  - Example: `01111101` = 60 (Middle C / C3)\n",
    "\n",
    "- **Data Byte 2**: Velocity  \n",
    "  - Range: 0–127  \n",
    "  - 0 = Note Off, 127 = Max Velocity\n",
    "\n",
    "**MIDI Message Format**  \n",
    "- Format: `Name (status byte)`, `2nd byte (data1)`, `3rd byte (data2)`  \n",
    "- Example: Note On/Off (ch.1–16), Note Number (0–127), Note Velocity (0–127)\n",
    "\n",
    "**Setup Steps**\n",
    "\n",
    "0. Connect to device  \n",
    "1. Choose one of four buttons  \n",
    "2. Choose type: *toggle*, *trigger*, *momentum*  \n",
    "3. Assign MIDI channel and command\n",
    "\n",
    "---\n",
    "\n",
    "### MIDI Mapping Format: `(ch, cc, val)`\n",
    "\n",
    "#### Assign\n",
    "\n",
    "1. **Channel**  \n",
    "   - Abbreviation: `ch`  \n",
    "   - Range: 1–16\n",
    "\n",
    "2. **Control Message**  \n",
    "   - Abbreviation: `cc`  \n",
    "   - Range: 0–127\n",
    "\n",
    "3. **Type**  \n",
    "   - Options: *Momentum*, *Toggle*, *Trigger*\n",
    "\n",
    "---\n",
    "\n",
    "#### Types\n",
    "\n",
    "**Momentum**  \n",
    "- On: `(1, 121, 0)` → Fires on press  \n",
    "- Off: `(1, 121, 1)` → Stops on release\n",
    "\n",
    "**Toggle**  \n",
    "- On: `(1, 125, 0)` → Toggle on press  \n",
    "- Off: `(1, 125, 1)` → Toggle remains until next press\n",
    "\n",
    "**Trigger**  \n",
    "- Fire: `(1, 128, 1)` → Sends same message each press"
   ]
  },
  {
   "cell_type": "markdown",
   "metadata": {},
   "source": [
    "</details>"
   ]
  }
 ],
 "metadata": {
  "colab": {
   "provenance": []
  },
  "kernelspec": {
   "display_name": "Python 3",
   "name": "python3"
  }
 },
 "nbformat": 4,
 "nbformat_minor": 0
}
