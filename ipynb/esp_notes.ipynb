{
 "cells": [
  {
   "cell_type": "markdown",
   "metadata": {},
   "source": [
    "# About ESP32\n",
    "> A brief description of what the esp has to offer.\n",
    "\n",
    "- keywords: ['esp32', 'navigation']\n",
    "- prettify: true"
   ]
  },
  {
   "cell_type": "markdown",
   "metadata": {},
   "source": [
    "<img src='https://charleskarpati.com/images/covers/esp_notes1.webp'>"
   ]
  },
  {
   "cell_type": "markdown",
   "metadata": {},
   "source": [
    "<details>\n",
    "<summary>"
   ]
  },
  {
   "cell_type": "markdown",
   "metadata": {},
   "source": [
    "## Background"
   ]
  },
  {
   "cell_type": "markdown",
   "metadata": {},
   "source": [
    "</summary>"
   ]
  },
  {
   "cell_type": "markdown",
   "metadata": {},
   "source": [
    "## ARM vs RISC \n",
    "### ESP32\n",
    "- The ESP32 is based on the **Xtensa LX6** microprocessor, which is neither ARM nor traditional RISC but uses a proprietary architecture by Tensilica.\n",
    "- The ESP32 primarily uses **ASIC** for its microcontroller design, but it can interface with **MEMS** devices like microphones and sensors.\n",
    "### ARM (Advanced RISC Machine)\n",
    "- Created by David Braben and Ian Bell, built on RISC principles.\n",
    "- ARMv1 (1985): 32-bit, 1-watt chip.  \n",
    "- **Cortex A**: Designed for phones and laptops. \"32-bit is dead as of 2023.\"\n",
    "- **Cortex M**: Microcontrollers, offers 32-bit processing with processors as small as 12k gates.\n",
    "\n",
    "### RISC (Reduced Instruction Set Computing)\n",
    "- Original RISC processor created by David Patterson. \n",
    "- RISCv1 (1978) \n",
    "- RISC-V (2010): Open-source, OISA (Open Instruction Set Architecture), supports 32-bit and 64-bit.\n",
    "\n",
    "### MEMS vs ASIC\n",
    "- **MEMS**: Micro-Electromechanical Systems.\n",
    "- **ASIC**: Application-Specific Integrated Circuit.\n",
    "\n",
    "--- "
   ]
  },
  {
   "cell_type": "markdown",
   "metadata": {},
   "source": [
    "</details>\n",
    "<br>\n",
    "<details>\n",
    "<summary>"
   ]
  },
  {
   "cell_type": "markdown",
   "metadata": {},
   "source": [
    "## Non-Light/Audio/Module Hardware"
   ]
  },
  {
   "cell_type": "markdown",
   "metadata": {},
   "source": [
    "</summary>"
   ]
  },
  {
   "cell_type": "markdown",
   "metadata": {},
   "source": [
    "- The ESP32 operates at **3.3V** and dev boards use an **AMS1117** voltage regulator to step down the **5V USB input** for powering the UART.\n",
    "- 802.11 broadcast packets don't require a Wi-Fi connection to be received if the receiver is on the correct channel.\n",
    "- Only chip designs need FCC certification; modules are acceptable as is.\n",
    "\n",
    "### Regulators and Connectors\n",
    "- **Regulators**:\n",
    "    - [AMS1117 Datasheet](http://www.advanced-monolithic.com/pdf/ds1117.pdf)\n",
    "    - [Mouser: Linear Voltage Regulators](https://www.mouser.com/c/semiconductors/power-management-ics/voltage-regulators-voltage-controllers/linear-voltage-regulators/?q=7805&package%20%2F%20case=TO-220)\n",
    "- **Connectors**:\n",
    "    - **JST Connectors**: Not suitable for high current applications.\n",
    "    - **PCB Screw Terminals**: Introduce resistance (~2.2mΩ), causing **0.22W power loss at 10A**:  \n",
    "      **P = R × I² = 2.2mΩ × (10A)² = 0.22W**\n"
   ]
  },
  {
   "cell_type": "markdown",
   "metadata": {},
   "source": [
    "</details>\n",
    "<br>\n",
    "<details>\n",
    "<summary>"
   ]
  },
  {
   "cell_type": "markdown",
   "metadata": {},
   "source": [
    "## Powering LEDS"
   ]
  },
  {
   "cell_type": "markdown",
   "metadata": {},
   "source": [
    "</summary>"
   ]
  },
  {
   "cell_type": "markdown",
   "metadata": {},
   "source": [
    "### Power Requirements for LED Strips\n",
    "\n",
    "- **100W LED Strip (24V, 5 meters):**\n",
    "    - Requires 4A of power.\n",
    "    - Use a wire of **0.75mm²** for 5 meters.\n",
    "    - If double-fed (power from both ends), each cable only needs to handle ~2A, allowing for thinner cables.\n",
    "    - *Note:* Power distribution is not always 100% equal. Ensure both ends can handle the full load. A good practice is to use 2/3 of the thickness instead of half.\n",
    "\n",
    "---\n",
    "\n",
    "### Guidelines for Powering LED Strips\n",
    "- **150 LEDs or less:** Use a **2.0mm²** wire.\n",
    "- **Under 300 LEDs:** Use **10A DC barrel jacks**.\n",
    "- **300+ LEDs:** Use an **AC-DC converter**.\n",
    "- Recommended wire:\n",
    "    - **18 AWG (0.75mm²), 3-core copper wire.**\n",
    "    - Rated voltage: **0-36V**, rated current: **0-5A**.\n",
    "    - Extension wire: Rated voltage: **0-300V**, rated current: **0-2A**. \n",
    "---\n",
    "\n",
    "\n",
    "### Power Supply Requirements\n",
    "- **50 LEDs (5V):** ~0.05A each.\n",
    "- **50 LEDs (12V):** ~0.03A each.\n",
    "- **1000 LEDs:**\n",
    "    - **5V, 50A = 250W** power supply.\n",
    "    - **12V, 29A = 350W** power supply.\n",
    "\n",
    "---\n",
    "\n",
    "### Power Injection\n",
    "- **5V strips:** Inject power every **5 meters**.\n",
    "- **12V strips:** Inject power every **10 meters**.\n",
    "- **Injection Methods:**\n",
    "    - **Home-run injection:** Power supply runs wires to each injection point.\n",
    "    - **Parallel run:** Home-run to a split, then run inside multiple aluminum channels.\n",
    "- Use **22 AWG solid core wire** for injection at the beginning and end of each strip.\n",
    "- Use **14 AWG wire** from a **5V 40A power supply**.\n",
    "\n",
    "---\n",
    "\n",
    "### Important Notes\n",
    "- Avoid connecting power injection lines from alternate power adapters to the original adapter to prevent grounding issues.\n",
    "- Power supplies should never be connected together.\n",
    "\n",
    "---\n",
    "\n",
    "### Recommended Power Adapters\n",
    "- **BTF-LIGHTING DC5V Power Adapters:**\n",
    "    - **5V 10A (50W):** $22.99\n",
    "    - **5V 3A (15W):** $9.99\n",
    "    - **5V 6A (30W):** $15.99\n",
    "    - **5V 8A (40W):** $17.99\n"
   ]
  },
  {
   "cell_type": "markdown",
   "metadata": {},
   "source": [
    "</details>\n",
    "<br>\n",
    "<details open>\n",
    "<summary>"
   ]
  },
  {
   "cell_type": "markdown",
   "metadata": {},
   "source": [
    "## Diffusers"
   ]
  },
  {
   "cell_type": "markdown",
   "metadata": {},
   "source": [
    "</summary>"
   ]
  },
  {
   "cell_type": "markdown",
   "metadata": {},
   "source": [
    "### LED Diffuser Notes\n",
    "\n",
    "- LEDs should be positioned further away from the diffuser than from each other to avoid bright spots.\n",
    "\n",
    "#### Average Diffuser Heights and Brightness Reduction:\n",
    "- **6.5mm**: 22% brightness drop.\n",
    "- **13.5mm**: Moderate reduction.\n",
    "- **16mm**: 36% less bright compared to no diffuser. Spotless diffusers result in a **56% brightness reduction**.\n",
    "\n",
    "#### Recommended Model:\n",
    "- **Model U4** is the best option!\n",
    "\n",
    "#### Diffuser Models and Dimensions:\n",
    "- **1018**: 15mm height, 46% brightness reduction.\n",
    "- **1220**: 19mm height, 58% brightness reduction.\n",
    "- **1220-3**: 18mm height, 56% brightness reduction.\n",
    "- **1023**: 19mm height, 59% brightness reduction.\n",
    "- **1616**: 16mm height, 55% brightness reduction.\n",
    "- **1616s**: 13mm height, 60% brightness reduction.\n",
    "\n",
    "#### Suggested Models:\n",
    "- **1018**, **1220s-3**, **1023**, **1616s**, **2020s**.\n",
    "\n",
    "#### References:\n",
    "- [BTF-Lighting Neon Rope Tube](https://www.btf-lighting.com/products/sk6812rgbw-led-neon-rope-tube-ws2811-ws2812b-ws2813-flexible-gel-soft-tube-1m-5m-ip67-waterproof?variant=42978175484130)\n",
    "- ![1018 and 1220s-3 Comparison](https://ae01.alicdn.com/kf/Hf32caccc1db14c26a816422e69d9a71bz.jpg)\n",
    "- ![Diffuser Models](https://ae01.alicdn.com/kf/H821463ec18f54850b847715c9b71a2a9j.png)"
   ]
  },
  {
   "cell_type": "markdown",
   "metadata": {},
   "source": [
    "At full brighness(60mA) (20perRgb), \n",
    "30Leds/Meter from a 5V uses 1.8 Amps.\n",
    "5meters is the longest you can buy which would be 9Amps"
   ]
  },
  {
   "cell_type": "markdown",
   "metadata": {},
   "source": [
    "</details>\n",
    "<br>\n",
    "<details>\n",
    "<summary>"
   ]
  },
  {
   "cell_type": "markdown",
   "metadata": {},
   "source": [
    "## Light"
   ]
  },
  {
   "cell_type": "markdown",
   "metadata": {},
   "source": [
    "</summary>"
   ]
  },
  {
   "cell_type": "markdown",
   "metadata": {},
   "source": [
    "### BTF-LIGHTING WS2812B LED Matrix Notes\n",
    "\n",
    "#### Product Details:\n",
    "- **Model**: BTF-LIGHTING 2 Pack WS2812B ECO RGB Alloy Wires 5050SMD Individual Addressable 8x32 (256 Pixel) LED Matrix.\n",
    "- **Price**: $37.99 for 2.\n",
    "- **IP Ratings**:\n",
    "    - **IP65**: Water-repellent, rated for splash and rainproof.\n",
    "    - **IP67**: Sealed silicone sleeves, not suitable for thin channels.\n",
    "- **Variants**:\n",
    "    - **SK6812**: RGBW.\n",
    "    - **WS2812B**: RGB.\n",
    "\n",
    "#### LED Density and Dimensions:\n",
    "- **LED Density**:\n",
    "    - 30 LEDs/m: 32.9mm spacing.\n",
    "    - 60 LEDs/m: 16.2mm spacing.\n",
    "    - 144 LEDs/m: 6.6mm spacing.\n",
    "- **Strip Width**:\n",
    "    - **IP30/IP65**: 10mm.\n",
    "    - **IP67**: 12mm (includes silicone sheathing).\n",
    "\n",
    "#### Power Requirements:\n",
    "- **Power Supply (5V @ 20mA/60mA per pixel)**:\n",
    "    - 2.1A (10W): 100 LEDs / 35 LEDs (USB 2.0).\n",
    "    - 5A (25W): 250 LEDs / 83 LEDs.\n",
    "    - 8A (40W): 400 LEDs / 134 LEDs.\n",
    "    - 10A (50W): 500 LEDs / 167 LEDs.\n",
    "    - 15A (75W): 750 LEDs / 250 LEDs.\n",
    "    - 20A (100W): 1000 LEDs / 334 LEDs.\n",
    "    - 30A (150W): 1500 LEDs / 500 LEDs.\n",
    "    - 40A (200W): 2000 LEDs / 750 LEDs.\n",
    "    - 50A (250W): 2500 LEDs / 834 LEDs.\n",
    "    - 60A (300W): 3000 LEDs / 1000 LEDs.\n",
    "\n",
    "#### Example Calculation:\n",
    "- **30 LEDs/m x 5m** = 150 LEDs:\n",
    "    - **3A (20mA per pixel)**.\n",
    "    - **9A (60mA per pixel)**.\n",
    "\n",
    "#### Performance Notes:\n",
    "- **NodeMCU**: Can handle 500-600 LEDs, but FPS may drop with higher counts.\n"
   ]
  },
  {
   "cell_type": "markdown",
   "metadata": {},
   "source": []
  },
  {
   "cell_type": "markdown",
   "metadata": {},
   "source": [
    "</details>\n",
    "<br>\n",
    "<details>\n",
    "<summary>"
   ]
  },
  {
   "cell_type": "markdown",
   "metadata": {},
   "source": [
    "## Audio"
   ]
  },
  {
   "cell_type": "markdown",
   "metadata": {},
   "source": [
    "</summary>"
   ]
  },
  {
   "cell_type": "markdown",
   "metadata": {},
   "source": [
    "### INMP441 - Omnidirectional Microphone\n",
    "\n",
    "#### Key Features\n",
    "- Background noise filtering (or squelch).\n",
    "- The ESP32 uses a 12-bit ADC.\n",
    "\n",
    "#### Useful Resources\n",
    "- [Sound Detector Hookup Guide](https://learn.sparkfun.com/tutorials/sound-detector-hookup-guide)\n",
    "- [Electret Mic Breakout Board Hookup Guide](https://learn.sparkfun.com/tutorials/electret-mic-breakout-board-hookup-guide/all)\n",
    "- [Electret Microphone Tutorial](https://www.instructables.com/Electret-microphone/)\n",
    "- [MEMS Microphone Hookup Guide](https://learn.sparkfun.com/tutorials/mems-microphone-hookup-guide/all)\n",
    "- [Drums Trigger LED with a Mic (Arduino Forum)](https://forum.arduino.cc/t/drums-trigger-led-with-a-mic/948511/12)\n",
    "\n",
    "#### INMP441 Notes\n",
    "- Leave the MAX4466 gain untouched; it works fine out of the box.\n",
    "- A MAX4466 and INMP401 should average about **1875** on an ESP32, while a MAX9814 averages about **1350** for all gain settings.\n",
    "\n",
    "#### Recommended Options\n",
    "- **Adafruit**: $6.95 - [Electret Microphone Amp - MAX4466](https://www.adafruit.com/product/1063) with Adjustable Gain.\n",
    "- **Digikey**: $7.95 - [Electret Microphone Amp Audio Evaluation Board - MAX9814](https://www.digikey.com/en/products/detail/adafruit-industries-llc/1713/4990777?s=N4IgjCBcoLQBxVAYygMwIYBsDOBTANCAPZQDa4ArAEwIC6AvvYVWeAOxgDMIDQA).\n",
    "- **SparkFun**: $6.95 - [MEMS Microphone Breakout - ICS-40180](https://www.sparkfun.com/products/18011).\n",
    "- **AliExpress**: $1.61 - [I2S MEMS Microphone - INMP441](https://www.aliexpress.com/i/2251832776111658.html?gatewayAdapt=4itemAdapt).\n",
    "\n",
    "#### Analog vs. I2S Digital Microphones\n",
    "- **Recommendation**: Use an I2S digital microphone with ESP32 boards, such as INMP441, ICS-43434, or PDM microphones.\n",
    "- **Analog Input**:\n",
    "    - Possible but may experience power fluctuation (3.3V) and noise issues.\n",
    "    - Analog devices are handled by the \"ADC1\" unit of the ESP32, which can cause problems when connecting other analog devices (e.g., potentiometers) to the same ADC1 unit.\n",
    "    - Analog microphones like MAX4466 work best when placed very close to the sound source (30-50cm optimal distance).\n",
    "- **Digital Input**:\n",
    "    - Digital microphones like INMP441 can pick up sound from several meters away.\n",
    "    - On ESP32, use I2S microphones such as INMP441, SPH0645, or ICS-43434.\n",
    "\n",
    "#### Important Notes\n",
    "- Avoid powering LED strips from the ESP32's 3.3V or 5V pins.\n",
    "- Do not use USB power from your PC for LED strips.\n",
    "- Isolate the power between LED strips and the controller.\n",
    "- Some batches of analog microphones may have quality issues.\n",
    "- The ESP32 and ESP8266 boards often experience spurious noise on their ADC pins."
   ]
  },
  {
   "cell_type": "markdown",
   "metadata": {},
   "source": [
    "</details>\n",
    "<br>\n",
    "<details>\n",
    "<summary>"
   ]
  },
  {
   "cell_type": "markdown",
   "metadata": {},
   "source": [
    "## Other Projects"
   ]
  },
  {
   "cell_type": "markdown",
   "metadata": {},
   "source": [
    "</summary>"
   ]
  },
  {
   "cell_type": "markdown",
   "metadata": {},
   "source": [
    "[Super 2023 Swadge HW](https://github.com/AEFeinstein/Super-2023-Swadge-HW)  \n",
    "[Super 2023 Swadge FW](https://github.com/AEFeinstein/Super-2023-Swadge-FW)  \n",
    "[Super 2021 Swadge FW Sandbox](https://github.com/cnlohr/Super-2021-Swadge-FW-Sandbox)  \n",
    "[Super 2021 Swadge HW](https://github.com/cnlohr/Super-2021-Swadge-HW)  \n",
    "[ESP8266 WS2812 I2S](https://github.com/cnlohr/esp8266ws2812i2s)  \n",
    "[Swadge Guide](https://github.com/cnlohr/swadgeguide)  \n",
    "[Swadge Guide - KiCad for Manufacturing](https://github.com/cnlohr/swadgeguide/blob/master/kicad_for_mfg/README.md)  \n",
    "[PCB Design for Manufacturing (DFM) Guide](https://statics3.seeedstudio.com/fusion/ebook/PCB%20DFM%20V1.1.pdf)  \n",
    "[Swadge 2019](https://github.com/cnlohr/swadge2019)  \n",
    "[Swadge Devkit](https://github.com/cnlohr/Swadge-Devkit)  \n",
    "[ESPUSB](https://github.com/cnlohr/espusb)  \n",
    "[ESP32 CNLohr Demo](https://github.com/cnlohr/esp32_cnlohr_demo)  \n",
    "[ESP32 MAX1193](https://github.com/cnlohr/esp32_max1193)  \n",
    "[Swadges 2017](https://github.com/cnlohr/swadges2017)  \n",
    "[ESP8266 32x32 Panel](https://github.com/cnlohr/esp8266_32x32panel)  \n",
    "\n"
   ]
  },
  {
   "cell_type": "markdown",
   "metadata": {},
   "source": [
    " \n",
    "- [YouTube Tutorial](https://www.youtube.com/watch?v=S_p0YV-JlfU)\n",
    "- [EasyEDA Tutorial](https://easyeda.com/editor#id=fbcc60cfb0d247e59f691554a623c02f|e093c929dbea4fbebbdd9a1d95c63ab3|3beaebc196b2425db179dfd6e55c2b23)"
   ]
  },
  {
   "cell_type": "markdown",
   "metadata": {},
   "source": [
    "</details> "
   ]
  }
 ],
 "metadata": {
  "kernelspec": {
   "display_name": "venv",
   "language": "python",
   "name": "python3"
  },
  "language_info": {
   "name": "python",
   "version": "3.11.6"
  }
 },
 "nbformat": 4,
 "nbformat_minor": 2
}
