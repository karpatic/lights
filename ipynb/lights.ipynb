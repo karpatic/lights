{
 "cells": [
  {
   "cell_type": "markdown",
   "id": "56acd7c9",
   "metadata": {},
   "source": [
    "# Lights\n",
    "> A brief description of what the esp has to offer.\n",
    "\n",
    "- keywords: ['esp32', 'navigation']\n",
    "- prettify: true"
   ]
  },
  {
   "cell_type": "markdown",
   "id": "51248765",
   "metadata": {},
   "source": [
    "\n",
    "<br>\n",
    "<details>\n",
    "<summary>"
   ]
  },
  {
   "cell_type": "markdown",
   "id": "0818f698",
   "metadata": {},
   "source": [
    "## Powering LEDS"
   ]
  },
  {
   "cell_type": "markdown",
   "id": "d3055a34",
   "metadata": {},
   "source": [
    "</summary>"
   ]
  },
  {
   "cell_type": "markdown",
   "id": "ed7fb9ac",
   "metadata": {},
   "source": [
    "### Power Requirements for LED Strips\n",
    "\n",
    "- **100W LED Strip (24V, 5 meters):**\n",
    "    - Requires 4A of power.\n",
    "    - Use a wire of **0.75mm²** for 5 meters.\n",
    "    - If double-fed (power from both ends), each cable only needs to handle ~2A, allowing for thinner cables.\n",
    "    - *Note:* Power distribution is not always 100% equal. Ensure both ends can handle the full load. A good practice is to use 2/3 of the thickness instead of half.\n",
    "\n",
    "---\n",
    "\n",
    "### Guidelines for Powering LED Strips\n",
    "- **150 LEDs or less:** Use a **2.0mm²** wire.\n",
    "- **Under 300 LEDs:** Use **10A DC barrel jacks**.\n",
    "- **300+ LEDs:** Use an **AC-DC converter**.\n",
    "- Recommended wire:\n",
    "    - **18 AWG (0.75mm²), 3-core copper wire.**\n",
    "    - Rated voltage: **0-36V**, rated current: **0-5A**.\n",
    "    - Extension wire: Rated voltage: **0-300V**, rated current: **0-2A**. \n",
    "---\n",
    "\n",
    "\n",
    "### Power Supply Requirements\n",
    "- **50 LEDs (5V):** ~0.05A each.\n",
    "- **50 LEDs (12V):** ~0.03A each.\n",
    "- **1000 LEDs:**\n",
    "    - **5V, 50A = 250W** power supply.\n",
    "    - **12V, 29A = 350W** power supply.\n",
    "\n",
    "---\n",
    "\n",
    "### Power Injection\n",
    "- **5V strips:** Inject power every **5 meters**.\n",
    "- **12V strips:** Inject power every **10 meters**.\n",
    "- **Injection Methods:**\n",
    "    - **Home-run injection:** Power supply runs wires to each injection point.\n",
    "    - **Parallel run:** Home-run to a split, then run inside multiple aluminum channels.\n",
    "- Use **22 AWG solid core wire** for injection at the beginning and end of each strip.\n",
    "- Use **14 AWG wire** from a **5V 40A power supply**.\n",
    "\n",
    "---\n",
    "\n",
    "### Important Notes\n",
    "- Avoid connecting power injection lines from alternate power adapters to the original adapter to prevent grounding issues.\n",
    "- Power supplies should never be connected together.\n",
    "\n",
    "---\n",
    "\n",
    "### Recommended Power Adapters\n",
    "- **BTF-LIGHTING DC5V Power Adapters:**\n",
    "    - **5V 10A (50W):** $22.99\n",
    "    - **5V 3A (15W):** $9.99\n",
    "    - **5V 6A (30W):** $15.99\n",
    "    - **5V 8A (40W):** $17.99\n"
   ]
  },
  {
   "cell_type": "markdown",
   "id": "fb5c51d8",
   "metadata": {},
   "source": [
    "</details>\n",
    "<br>\n",
    "<details open>\n",
    "<summary>"
   ]
  },
  {
   "cell_type": "markdown",
   "id": "d404d41c",
   "metadata": {},
   "source": [
    "## Diffusers"
   ]
  },
  {
   "cell_type": "markdown",
   "id": "2b8c37d2",
   "metadata": {},
   "source": [
    "</summary>"
   ]
  },
  {
   "cell_type": "markdown",
   "id": "a4e83d4d",
   "metadata": {},
   "source": [
    "### LED Diffuser Notes\n",
    "\n",
    "- LEDs should be positioned further away from the diffuser than from each other to avoid bright spots.\n",
    "\n",
    "#### Average Diffuser Heights and Brightness Reduction:\n",
    "- **6.5mm**: 22% brightness drop.\n",
    "- **13.5mm**: Moderate reduction.\n",
    "- **16mm**: 36% less bright compared to no diffuser. Spotless diffusers result in a **56% brightness reduction**.\n",
    "\n",
    "#### Recommended Model:\n",
    "- **Model U4** is the best option!\n",
    "\n",
    "#### Diffuser Models and Dimensions:\n",
    "- **1018**: 15mm height, 46% brightness reduction.\n",
    "- **1220**: 19mm height, 58% brightness reduction.\n",
    "- **1220-3**: 18mm height, 56% brightness reduction.\n",
    "- **1023**: 19mm height, 59% brightness reduction.\n",
    "- **1616**: 16mm height, 55% brightness reduction.\n",
    "- **1616s**: 13mm height, 60% brightness reduction.\n",
    "\n",
    "#### Suggested Models:\n",
    "- **1018**, **1220s-3**, **1023**, **1616s**, **2020s**.\n",
    "\n",
    "#### References:\n",
    "- [BTF-Lighting Neon Rope Tube](https://www.btf-lighting.com/products/sk6812rgbw-led-neon-rope-tube-ws2811-ws2812b-ws2813-flexible-gel-soft-tube-1m-5m-ip67-waterproof?variant=42978175484130)\n",
    "- ![1018 and 1220s-3 Comparison](https://ae01.alicdn.com/kf/Hf32caccc1db14c26a816422e69d9a71bz.jpg)\n",
    "- ![Diffuser Models](https://ae01.alicdn.com/kf/H821463ec18f54850b847715c9b71a2a9j.png)"
   ]
  },
  {
   "cell_type": "markdown",
   "id": "aa4ed5cb",
   "metadata": {},
   "source": [
    "At full brighness(60mA) (20perRgb), \n",
    "30Leds/Meter from a 5V uses 1.8 Amps.\n",
    "5meters is the longest you can buy which would be 9Amps"
   ]
  },
  {
   "cell_type": "markdown",
   "id": "ff366879",
   "metadata": {},
   "source": [
    "</details>\n",
    "<br>\n",
    "<details>\n",
    "<summary>"
   ]
  },
  {
   "cell_type": "markdown",
   "id": "baf020cc",
   "metadata": {},
   "source": [
    "## Light"
   ]
  },
  {
   "cell_type": "markdown",
   "id": "94bb2be1",
   "metadata": {},
   "source": [
    "</summary>"
   ]
  },
  {
   "cell_type": "markdown",
   "id": "c8cc837f",
   "metadata": {},
   "source": [
    "### BTF-LIGHTING WS2812B LED Matrix Notes\n",
    "\n",
    "#### Product Details:\n",
    "- **Model**: BTF-LIGHTING 2 Pack WS2812B ECO RGB Alloy Wires 5050SMD Individual Addressable 8x32 (256 Pixel) LED Matrix.\n",
    "- **Price**: $37.99 for 2.\n",
    "- **IP Ratings**:\n",
    "    - **IP65**: Water-repellent, rated for splash and rainproof.\n",
    "    - **IP67**: Sealed silicone sleeves, not suitable for thin channels.\n",
    "- **Variants**:\n",
    "    - **SK6812**: RGBW.\n",
    "    - **WS2812B**: RGB.\n",
    "\n",
    "#### LED Density and Dimensions:\n",
    "- **LED Density**:\n",
    "    - 30 LEDs/m: 32.9mm spacing.\n",
    "    - 60 LEDs/m: 16.2mm spacing.\n",
    "    - 144 LEDs/m: 6.6mm spacing.\n",
    "- **Strip Width**:\n",
    "    - **IP30/IP65**: 10mm.\n",
    "    - **IP67**: 12mm (includes silicone sheathing).\n",
    "\n",
    "#### Power Requirements:\n",
    "- **Power Supply (5V @ 20mA/60mA per pixel)**:\n",
    "    - 2.1A (10W): 100 LEDs / 35 LEDs (USB 2.0).\n",
    "    - 5A (25W): 250 LEDs / 83 LEDs.\n",
    "    - 8A (40W): 400 LEDs / 134 LEDs.\n",
    "    - 10A (50W): 500 LEDs / 167 LEDs.\n",
    "    - 15A (75W): 750 LEDs / 250 LEDs.\n",
    "    - 20A (100W): 1000 LEDs / 334 LEDs.\n",
    "    - 30A (150W): 1500 LEDs / 500 LEDs.\n",
    "    - 40A (200W): 2000 LEDs / 750 LEDs.\n",
    "    - 50A (250W): 2500 LEDs / 834 LEDs.\n",
    "    - 60A (300W): 3000 LEDs / 1000 LEDs.\n",
    "\n",
    "#### Example Calculation:\n",
    "- **30 LEDs/m x 5m** = 150 LEDs:\n",
    "    - **3A (20mA per pixel)**.\n",
    "    - **9A (60mA per pixel)**.\n",
    "\n",
    "#### Performance Notes:\n",
    "- **NodeMCU**: Can handle 500-600 LEDs, but FPS may drop with higher counts.\n"
   ]
  }
 ],
 "metadata": {
  "language_info": {
   "name": "python"
  }
 },
 "nbformat": 4,
 "nbformat_minor": 5
}
